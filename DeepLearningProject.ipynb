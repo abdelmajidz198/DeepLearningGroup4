{
 "cells": [
  {
   "cell_type": "markdown",
   "metadata": {
    "id": "wknFvRloRlYb"
   },
   "source": [
    "#Deep Learning - Project\n",
    "\n",
    "*Irland news headlines data*"
   ]
  },
  {
   "cell_type": "code",
   "execution_count": 4,
   "metadata": {
    "id": "hVGGtal_OjJk"
   },
   "outputs": [],
   "source": [
    "import pandas as pd\n",
    "import numpy as np\n",
    "import matplotlib.pyplot as plt\n",
    "import nltk\n",
    "import regex\n",
    "from nltk.corpus import stopwords\n",
    "from nltk.tokenize import word_tokenize\n",
    "from nltk.stem import WordNetLemmatizer\n",
    "from nltk.tokenize import WordPunctTokenizer\n",
    "from string import punctuation\n",
    "import plotly.express as px\n",
    "from pydrive.auth import GoogleAuth\n",
    "from pydrive.drive import GoogleDrive\n",
    "from google.colab import auth\n",
    "from oauth2client.client import GoogleCredentials\n",
    "from sklearn.feature_extraction.text import CountVectorizer\n",
    "from sklearn.metrics.pairwise import cosine_similarity\n",
    "import scipy.sparse as sp\n",
    "from scipy.sparse import csr_matrix\n",
    "from sklearn.feature_extraction.text import CountVectorizer\n",
    "\n",
    "# https://www.kaggle.com/code/darkrubiks/classifying-irish-times-headlines-categories#Predicting-the-Headlines-Categories"
   ]
  },
  {
   "cell_type": "code",
   "execution_count": 6,
   "metadata": {
    "colab": {
     "base_uri": "https://localhost:8080/"
    },
    "id": "aFFQxwyU_R7-",
    "outputId": "a75a07f0-c44f-4221-8927-30acd74f35a1"
   },
   "outputs": [],
   "source": [
    "# from google.colab import drive\n",
    "# drive.mount('/content/drive')"
   ]
  },
  {
   "cell_type": "code",
   "execution_count": 7,
   "metadata": {
    "colab": {
     "base_uri": "https://localhost:8080/"
    },
    "id": "h0KSLLasITSh",
    "outputId": "4f07792a-1a66-4afb-fcfc-9151a3ed3299"
   },
   "outputs": [
    {
     "name": "stderr",
     "output_type": "stream",
     "text": [
      "'ls' is not recognized as an internal or external command,\n",
      "operable program or batch file.\n"
     ]
    }
   ],
   "source": [
    "# !ls \"/content/drive/MyDrive/Untitled folder/ireland-news-headlines.csv\""
   ]
  },
  {
   "cell_type": "code",
   "execution_count": 8,
   "metadata": {
    "colab": {
     "base_uri": "https://localhost:8080/",
     "height": 424
    },
    "id": "1FvnKM_gIeXp",
    "outputId": "55dc50ba-fb9b-495d-8bdb-b5b5cfe77365"
   },
   "outputs": [
    {
     "ename": "FileNotFoundError",
     "evalue": "[Errno 2] No such file or directory: '/content/drive/MyDrive/Untitled folder/ireland-news-headlines.csv'",
     "output_type": "error",
     "traceback": [
      "\u001b[1;31m---------------------------------------------------------------------------\u001b[0m",
      "\u001b[1;31mFileNotFoundError\u001b[0m                         Traceback (most recent call last)",
      "\u001b[1;32m~\\AppData\\Local\\Temp\\ipykernel_12692\\4054032274.py\u001b[0m in \u001b[0;36m<module>\u001b[1;34m\u001b[0m\n\u001b[1;32m----> 1\u001b[1;33m \u001b[0mdata\u001b[0m \u001b[1;33m=\u001b[0m \u001b[0mpd\u001b[0m\u001b[1;33m.\u001b[0m\u001b[0mread_csv\u001b[0m\u001b[1;33m(\u001b[0m\u001b[1;34m'/content/drive/MyDrive/Untitled folder/ireland-news-headlines.csv'\u001b[0m\u001b[1;33m)\u001b[0m\u001b[1;33m\u001b[0m\u001b[1;33m\u001b[0m\u001b[0m\n\u001b[0m\u001b[0;32m      2\u001b[0m \u001b[0mdata\u001b[0m\u001b[1;33m\u001b[0m\u001b[1;33m\u001b[0m\u001b[0m\n",
      "\u001b[1;32m~\\anaconda3\\lib\\site-packages\\pandas\\util\\_decorators.py\u001b[0m in \u001b[0;36mwrapper\u001b[1;34m(*args, **kwargs)\u001b[0m\n\u001b[0;32m    309\u001b[0m                     \u001b[0mstacklevel\u001b[0m\u001b[1;33m=\u001b[0m\u001b[0mstacklevel\u001b[0m\u001b[1;33m,\u001b[0m\u001b[1;33m\u001b[0m\u001b[1;33m\u001b[0m\u001b[0m\n\u001b[0;32m    310\u001b[0m                 )\n\u001b[1;32m--> 311\u001b[1;33m             \u001b[1;32mreturn\u001b[0m \u001b[0mfunc\u001b[0m\u001b[1;33m(\u001b[0m\u001b[1;33m*\u001b[0m\u001b[0margs\u001b[0m\u001b[1;33m,\u001b[0m \u001b[1;33m**\u001b[0m\u001b[0mkwargs\u001b[0m\u001b[1;33m)\u001b[0m\u001b[1;33m\u001b[0m\u001b[1;33m\u001b[0m\u001b[0m\n\u001b[0m\u001b[0;32m    312\u001b[0m \u001b[1;33m\u001b[0m\u001b[0m\n\u001b[0;32m    313\u001b[0m         \u001b[1;32mreturn\u001b[0m \u001b[0mwrapper\u001b[0m\u001b[1;33m\u001b[0m\u001b[1;33m\u001b[0m\u001b[0m\n",
      "\u001b[1;32m~\\anaconda3\\lib\\site-packages\\pandas\\io\\parsers\\readers.py\u001b[0m in \u001b[0;36mread_csv\u001b[1;34m(filepath_or_buffer, sep, delimiter, header, names, index_col, usecols, squeeze, prefix, mangle_dupe_cols, dtype, engine, converters, true_values, false_values, skipinitialspace, skiprows, skipfooter, nrows, na_values, keep_default_na, na_filter, verbose, skip_blank_lines, parse_dates, infer_datetime_format, keep_date_col, date_parser, dayfirst, cache_dates, iterator, chunksize, compression, thousands, decimal, lineterminator, quotechar, quoting, doublequote, escapechar, comment, encoding, encoding_errors, dialect, error_bad_lines, warn_bad_lines, on_bad_lines, delim_whitespace, low_memory, memory_map, float_precision, storage_options)\u001b[0m\n\u001b[0;32m    676\u001b[0m     \u001b[0mkwds\u001b[0m\u001b[1;33m.\u001b[0m\u001b[0mupdate\u001b[0m\u001b[1;33m(\u001b[0m\u001b[0mkwds_defaults\u001b[0m\u001b[1;33m)\u001b[0m\u001b[1;33m\u001b[0m\u001b[1;33m\u001b[0m\u001b[0m\n\u001b[0;32m    677\u001b[0m \u001b[1;33m\u001b[0m\u001b[0m\n\u001b[1;32m--> 678\u001b[1;33m     \u001b[1;32mreturn\u001b[0m \u001b[0m_read\u001b[0m\u001b[1;33m(\u001b[0m\u001b[0mfilepath_or_buffer\u001b[0m\u001b[1;33m,\u001b[0m \u001b[0mkwds\u001b[0m\u001b[1;33m)\u001b[0m\u001b[1;33m\u001b[0m\u001b[1;33m\u001b[0m\u001b[0m\n\u001b[0m\u001b[0;32m    679\u001b[0m \u001b[1;33m\u001b[0m\u001b[0m\n\u001b[0;32m    680\u001b[0m \u001b[1;33m\u001b[0m\u001b[0m\n",
      "\u001b[1;32m~\\anaconda3\\lib\\site-packages\\pandas\\io\\parsers\\readers.py\u001b[0m in \u001b[0;36m_read\u001b[1;34m(filepath_or_buffer, kwds)\u001b[0m\n\u001b[0;32m    573\u001b[0m \u001b[1;33m\u001b[0m\u001b[0m\n\u001b[0;32m    574\u001b[0m     \u001b[1;31m# Create the parser.\u001b[0m\u001b[1;33m\u001b[0m\u001b[1;33m\u001b[0m\u001b[0m\n\u001b[1;32m--> 575\u001b[1;33m     \u001b[0mparser\u001b[0m \u001b[1;33m=\u001b[0m \u001b[0mTextFileReader\u001b[0m\u001b[1;33m(\u001b[0m\u001b[0mfilepath_or_buffer\u001b[0m\u001b[1;33m,\u001b[0m \u001b[1;33m**\u001b[0m\u001b[0mkwds\u001b[0m\u001b[1;33m)\u001b[0m\u001b[1;33m\u001b[0m\u001b[1;33m\u001b[0m\u001b[0m\n\u001b[0m\u001b[0;32m    576\u001b[0m \u001b[1;33m\u001b[0m\u001b[0m\n\u001b[0;32m    577\u001b[0m     \u001b[1;32mif\u001b[0m \u001b[0mchunksize\u001b[0m \u001b[1;32mor\u001b[0m \u001b[0miterator\u001b[0m\u001b[1;33m:\u001b[0m\u001b[1;33m\u001b[0m\u001b[1;33m\u001b[0m\u001b[0m\n",
      "\u001b[1;32m~\\anaconda3\\lib\\site-packages\\pandas\\io\\parsers\\readers.py\u001b[0m in \u001b[0;36m__init__\u001b[1;34m(self, f, engine, **kwds)\u001b[0m\n\u001b[0;32m    930\u001b[0m \u001b[1;33m\u001b[0m\u001b[0m\n\u001b[0;32m    931\u001b[0m         \u001b[0mself\u001b[0m\u001b[1;33m.\u001b[0m\u001b[0mhandles\u001b[0m\u001b[1;33m:\u001b[0m \u001b[0mIOHandles\u001b[0m \u001b[1;33m|\u001b[0m \u001b[1;32mNone\u001b[0m \u001b[1;33m=\u001b[0m \u001b[1;32mNone\u001b[0m\u001b[1;33m\u001b[0m\u001b[1;33m\u001b[0m\u001b[0m\n\u001b[1;32m--> 932\u001b[1;33m         \u001b[0mself\u001b[0m\u001b[1;33m.\u001b[0m\u001b[0m_engine\u001b[0m \u001b[1;33m=\u001b[0m \u001b[0mself\u001b[0m\u001b[1;33m.\u001b[0m\u001b[0m_make_engine\u001b[0m\u001b[1;33m(\u001b[0m\u001b[0mf\u001b[0m\u001b[1;33m,\u001b[0m \u001b[0mself\u001b[0m\u001b[1;33m.\u001b[0m\u001b[0mengine\u001b[0m\u001b[1;33m)\u001b[0m\u001b[1;33m\u001b[0m\u001b[1;33m\u001b[0m\u001b[0m\n\u001b[0m\u001b[0;32m    933\u001b[0m \u001b[1;33m\u001b[0m\u001b[0m\n\u001b[0;32m    934\u001b[0m     \u001b[1;32mdef\u001b[0m \u001b[0mclose\u001b[0m\u001b[1;33m(\u001b[0m\u001b[0mself\u001b[0m\u001b[1;33m)\u001b[0m\u001b[1;33m:\u001b[0m\u001b[1;33m\u001b[0m\u001b[1;33m\u001b[0m\u001b[0m\n",
      "\u001b[1;32m~\\anaconda3\\lib\\site-packages\\pandas\\io\\parsers\\readers.py\u001b[0m in \u001b[0;36m_make_engine\u001b[1;34m(self, f, engine)\u001b[0m\n\u001b[0;32m   1214\u001b[0m             \u001b[1;31m# \"Union[str, PathLike[str], ReadCsvBuffer[bytes], ReadCsvBuffer[str]]\"\u001b[0m\u001b[1;33m\u001b[0m\u001b[1;33m\u001b[0m\u001b[0m\n\u001b[0;32m   1215\u001b[0m             \u001b[1;31m# , \"str\", \"bool\", \"Any\", \"Any\", \"Any\", \"Any\", \"Any\"\u001b[0m\u001b[1;33m\u001b[0m\u001b[1;33m\u001b[0m\u001b[0m\n\u001b[1;32m-> 1216\u001b[1;33m             self.handles = get_handle(  # type: ignore[call-overload]\n\u001b[0m\u001b[0;32m   1217\u001b[0m                 \u001b[0mf\u001b[0m\u001b[1;33m,\u001b[0m\u001b[1;33m\u001b[0m\u001b[1;33m\u001b[0m\u001b[0m\n\u001b[0;32m   1218\u001b[0m                 \u001b[0mmode\u001b[0m\u001b[1;33m,\u001b[0m\u001b[1;33m\u001b[0m\u001b[1;33m\u001b[0m\u001b[0m\n",
      "\u001b[1;32m~\\anaconda3\\lib\\site-packages\\pandas\\io\\common.py\u001b[0m in \u001b[0;36mget_handle\u001b[1;34m(path_or_buf, mode, encoding, compression, memory_map, is_text, errors, storage_options)\u001b[0m\n\u001b[0;32m    784\u001b[0m         \u001b[1;32mif\u001b[0m \u001b[0mioargs\u001b[0m\u001b[1;33m.\u001b[0m\u001b[0mencoding\u001b[0m \u001b[1;32mand\u001b[0m \u001b[1;34m\"b\"\u001b[0m \u001b[1;32mnot\u001b[0m \u001b[1;32min\u001b[0m \u001b[0mioargs\u001b[0m\u001b[1;33m.\u001b[0m\u001b[0mmode\u001b[0m\u001b[1;33m:\u001b[0m\u001b[1;33m\u001b[0m\u001b[1;33m\u001b[0m\u001b[0m\n\u001b[0;32m    785\u001b[0m             \u001b[1;31m# Encoding\u001b[0m\u001b[1;33m\u001b[0m\u001b[1;33m\u001b[0m\u001b[0m\n\u001b[1;32m--> 786\u001b[1;33m             handle = open(\n\u001b[0m\u001b[0;32m    787\u001b[0m                 \u001b[0mhandle\u001b[0m\u001b[1;33m,\u001b[0m\u001b[1;33m\u001b[0m\u001b[1;33m\u001b[0m\u001b[0m\n\u001b[0;32m    788\u001b[0m                 \u001b[0mioargs\u001b[0m\u001b[1;33m.\u001b[0m\u001b[0mmode\u001b[0m\u001b[1;33m,\u001b[0m\u001b[1;33m\u001b[0m\u001b[1;33m\u001b[0m\u001b[0m\n",
      "\u001b[1;31mFileNotFoundError\u001b[0m: [Errno 2] No such file or directory: '/content/drive/MyDrive/Untitled folder/ireland-news-headlines.csv'"
     ]
    }
   ],
   "source": [
    "data = pd.read_csv('/content/drive/MyDrive/Untitled folder/ireland-news-headlines.csv')\n",
    "data"
   ]
  },
  {
   "cell_type": "code",
   "execution_count": null,
   "metadata": {
    "colab": {
     "background_save": true
    },
    "id": "8OXbhW7OBfWL",
    "outputId": "6f7b23a0-177e-4ef8-aa2f-67acc077c5d6"
   },
   "outputs": [],
   "source": [
    "!pip install kaggle"
   ]
  },
  {
   "cell_type": "code",
   "execution_count": null,
   "metadata": {
    "colab": {
     "background_save": true
    },
    "id": "bT_KyxYM_Zdt",
    "outputId": "9949b004-d403-4e4b-9b6b-8cddbe6aefee"
   },
   "outputs": [],
   "source": [
    "import os\n",
    "os.environ['KAGGLE_CONFIG_DIR'] = '/content'\n",
    "!kaggle datasets download -d therohk/ireland-historical-news\n"
   ]
  },
  {
   "cell_type": "code",
   "execution_count": null,
   "metadata": {
    "colab": {
     "background_save": true
    },
    "id": "aYl-uslKA42_"
   },
   "outputs": [],
   "source": [
    "from zipfile import ZipFile\n",
    "with ZipFile('/content/ireland-historical-news.zip','r') as zip0bj:\n",
    "  zip0bj.extractall('/content')"
   ]
  },
  {
   "cell_type": "code",
   "execution_count": null,
   "metadata": {
    "colab": {
     "background_save": true
    },
    "id": "mSUHN27dDhtg",
    "outputId": "2053430a-247d-4d1f-8a54-8fd9c014a689"
   },
   "outputs": [],
   "source": [
    "data = pd.read_csv('/content/ireland-news-headlines.csv')\n",
    "data"
   ]
  },
  {
   "cell_type": "markdown",
   "metadata": {
    "id": "aM2e8JAdrFWY"
   },
   "source": [
    "### Importing the data"
   ]
  },
  {
   "cell_type": "markdown",
   "metadata": {
    "id": "vpQv7jPZrJ7Y"
   },
   "source": [
    "## Data Exploration"
   ]
  },
  {
   "cell_type": "code",
   "execution_count": null,
   "metadata": {
    "colab": {
     "background_save": true
    },
    "id": "ElYJAtbGpwjZ",
    "outputId": "aa22dacb-4649-4e26-f75e-8e205ff96e83"
   },
   "outputs": [],
   "source": [
    "data.shape\n"
   ]
  },
  {
   "cell_type": "code",
   "execution_count": null,
   "metadata": {
    "colab": {
     "background_save": true
    },
    "id": "zp4fw0KxrOQI",
    "outputId": "9fe86203-6995-4401-bcd2-c044e0108696"
   },
   "outputs": [],
   "source": [
    "data.isna().sum()\n",
    "\n",
    "#We can see that we have 7 nulls in the headline text, we will remove them"
   ]
  },
  {
   "cell_type": "code",
   "execution_count": null,
   "metadata": {
    "colab": {
     "base_uri": "https://localhost:8080/"
    },
    "id": "0Ed5_FRnr4Ag",
    "outputId": "f962a595-baae-4ce0-c43a-1fb389457227"
   },
   "outputs": [],
   "source": [
    "#removing the missing text articles\n",
    "data = data.dropna()\n",
    "data.isna().sum()"
   ]
  },
  {
   "cell_type": "code",
   "execution_count": null,
   "metadata": {
    "colab": {
     "background_save": true
    },
    "id": "0yds2y2-sDF9",
    "outputId": "9db12ba8-17c7-406c-9437-d6aba2397d47"
   },
   "outputs": [],
   "source": [
    "data.duplicated().sum()\n",
    "#Check what to do with it###"
   ]
  },
  {
   "cell_type": "code",
   "execution_count": null,
   "metadata": {
    "colab": {
     "background_save": true
    },
    "id": "snnfOYsjsMv6",
    "outputId": "14228a5c-3409-4fd3-ab80-59f8c3064548"
   },
   "outputs": [],
   "source": [
    "#Checking how many istanses we have of each category over the years in the data set\n",
    "data[\"headline_category\"].value_counts()"
   ]
  },
  {
   "cell_type": "markdown",
   "metadata": {
    "id": "1dLkqnFGskJB"
   },
   "source": [
    "### Data Pre-Processing"
   ]
  },
  {
   "cell_type": "code",
   "execution_count": null,
   "metadata": {
    "colab": {
     "base_uri": "https://localhost:8080/",
     "height": 736
    },
    "id": "5i1qYMQrsocv",
    "outputId": "4d2adbbb-7828-40ff-ee05-e2606c4ff60b"
   },
   "outputs": [],
   "source": [
    "#Date modifications\n",
    "#We will change the publish date to date time format\n",
    "#We will add month and day date for further analyzing\n",
    "data.loc[:, 'publish_date'] = pd.to_datetime(data['publish_date'], format='%Y%m%d')\n",
    "data.loc[:, 'month'] = data['publish_date'].dt.month\n",
    "data.loc[:, 'day'] = data['publish_date'].dt.day\n",
    "data"
   ]
  },
  {
   "cell_type": "code",
   "execution_count": null,
   "metadata": {
    "colab": {
     "base_uri": "https://localhost:8080/"
    },
    "id": "palGtZV4g8j5",
    "outputId": "c5d56893-f2fe-478a-ed10-225be73225fd"
   },
   "outputs": [],
   "source": [
    "# Unifing sub-categories into main categories by first delimter of \".\"\n",
    "def split_point(x):\n",
    "  split = x.split(\".\")\n",
    "  x = split[0]\n",
    "  return x\n",
    "\n",
    "data[\"headline_category\"] = data[\"headline_category\"].apply(split_point)\n",
    "data[\"headline_category\"].value_counts()\n",
    "#we are left with 6 main categories news : sport, business, opinion ,culture, lifestyle"
   ]
  },
  {
   "cell_type": "markdown",
   "metadata": {
    "id": "GSNtENqaCok5"
   },
   "source": [
    "# We Can see that there are almost 800K rows of news which cause over fittting and imbalanced data.\n",
    "# So we decided to balance our data by deleting X rows from News category and adding Y rows to culture, opinion, lifestyle..."
   ]
  },
  {
   "cell_type": "code",
   "execution_count": null,
   "metadata": {
    "colab": {
     "base_uri": "https://localhost:8080/"
    },
    "id": "Pluw1Y_iCcg7",
    "outputId": "74dfd307-7b3e-4c64-d492-692979cdd2f6"
   },
   "outputs": [],
   "source": [
    "news_delete = data[data[\"headline_category\"]==\"news\"].sample(n=702680).index\n",
    "data = data.drop(news_delete)\n",
    "data[\"headline_category\"].value_counts()"
   ]
  },
  {
   "cell_type": "code",
   "execution_count": null,
   "metadata": {
    "colab": {
     "base_uri": "https://localhost:8080/"
    },
    "id": "VNCZWiCSRJm8",
    "outputId": "ab8d370c-96ec-48f9-9ee6-6df5cad0d6d5"
   },
   "outputs": [],
   "source": [
    "news_delete = data[data[\"headline_category\"]==\"sport\"].sample(n=165826).index\n",
    "data = data.drop(news_delete)\n",
    "data[\"headline_category\"].value_counts()\n"
   ]
  },
  {
   "cell_type": "code",
   "execution_count": null,
   "metadata": {
    "colab": {
     "base_uri": "https://localhost:8080/"
    },
    "id": "RdJCiA7zRS1A",
    "outputId": "4c0f2bf8-3456-4f6c-e0d2-b80db6c90811"
   },
   "outputs": [],
   "source": [
    "news_delete = data[data[\"headline_category\"]==\"business\"].sample(n=126960).index\n",
    "data = data.drop(news_delete)\n",
    "data[\"headline_category\"].value_counts()\n"
   ]
  },
  {
   "cell_type": "code",
   "execution_count": null,
   "metadata": {
    "colab": {
     "base_uri": "https://localhost:8080/"
    },
    "id": "blHeAxTBfU-V",
    "outputId": "1372610f-573a-4785-b3cc-3909ae1349aa"
   },
   "outputs": [],
   "source": [
    "news_delete = data[data[\"headline_category\"]==\"culture\"].sample(n=2944).index\n",
    "data = data.drop(news_delete)\n",
    "data[\"headline_category\"].value_counts()\n"
   ]
  },
  {
   "cell_type": "code",
   "execution_count": null,
   "metadata": {
    "colab": {
     "base_uri": "https://localhost:8080/"
    },
    "id": "e3Bxc_udfg51",
    "outputId": "5f509520-21e6-442e-ab61-3008c99ec490"
   },
   "outputs": [],
   "source": [
    "news_delete = data[data[\"headline_category\"]==\"opinion\"].sample(n=37073).index\n",
    "data = data.drop(news_delete)\n",
    "data[\"headline_category\"].value_counts()"
   ]
  },
  {
   "cell_type": "code",
   "execution_count": null,
   "metadata": {
    "colab": {
     "base_uri": "https://localhost:8080/",
     "height": 424
    },
    "id": "8G5iZkBPFoit",
    "outputId": "2adc7d6e-4e60-435f-ad81-0c98da2bd2b9"
   },
   "outputs": [],
   "source": [
    "data"
   ]
  },
  {
   "cell_type": "code",
   "execution_count": null,
   "metadata": {
    "colab": {
     "base_uri": "https://localhost:8080/",
     "height": 472
    },
    "id": "gsYx8OLiy2d_",
    "outputId": "3877ac45-f1e1-4238-8177-a638832ef230"
   },
   "outputs": [],
   "source": [
    "# Plotting a bar chart to see the overall appearancses of each category after the unfigying we made\n",
    "counts = data['headline_category'].value_counts()\n",
    "\n",
    "# color map for the bars\n",
    "colors = ['blue', 'green', 'red', 'purple', 'orange','magenta']\n",
    "\n",
    "# plot the result using a bar chart with custom colors\n",
    "counts.plot.bar(color=colors[:len(counts)])\n",
    "\n",
    "# set plot title and axis labels\n",
    "plt.title('Number of Appearances by Category')\n",
    "plt.xlabel('Category')\n",
    "plt.ylabel('Number of appearances')\n",
    "plt.xticks(rotation=0)\n",
    "\n",
    "# show the plot\n",
    "plt.show()"
   ]
  },
  {
   "cell_type": "code",
   "execution_count": null,
   "metadata": {
    "colab": {
     "base_uri": "https://localhost:8080/",
     "height": 487
    },
    "id": "j-YPU7kggeES",
    "outputId": "d5abb3bb-4a18-48f5-c110-f0511c3afbc0"
   },
   "outputs": [],
   "source": [
    "#Plotting a trend graph over the years of publish dates to see categories volume trend\n",
    "\n",
    "grouped_data = data.groupby([data['publish_date'].dt.year, 'headline_category']).size().unstack()\n",
    "\n",
    "# Plot the data\n",
    "grouped_data.plot(kind='line', figsize=(15, 5))\n",
    "plt.xlabel('Publish Year')\n",
    "plt.ylabel('Number of Articles')\n",
    "plt.title('Trend of Categories Over The Years')\n",
    "plt.legend(title='Category', loc = \"upper right\")\n",
    "plt.show()\n",
    "\n",
    "#We can see that news articles are the most common over the years by far. also can see a big decrease in the volumne of the articles from 2010 in all categories\n"
   ]
  },
  {
   "cell_type": "code",
   "execution_count": null,
   "metadata": {
    "colab": {
     "base_uri": "https://localhost:8080/"
    },
    "id": "57s78FybuYFM",
    "outputId": "865fc694-db23-445c-fa3d-743b9b0d451d"
   },
   "outputs": [],
   "source": [
    "#Plotting a trend graph over the years of publish dates to see categories volume trend\n",
    "data_avg = data\n",
    "data_avg[\"num\"] = 1\n",
    "data.set_index(\"month\")\n",
    "grouped_data = data_avg.groupby([\"month\", \"headline_category\"])[\"num\"].mean()\n",
    "grouped_data"
   ]
  },
  {
   "cell_type": "code",
   "execution_count": null,
   "metadata": {
    "colab": {
     "base_uri": "https://localhost:8080/",
     "height": 487
    },
    "id": "f-2m2zaP19e4",
    "outputId": "6e7737d5-a7df-43ae-f060-1d0645a30b5a"
   },
   "outputs": [],
   "source": [
    "#Plotting a trend graph over the years of publish dates to see categories volume trend\n",
    "\n",
    "grouped_data = data.groupby([data['day'], 'headline_category']).size().unstack()\n",
    "\n",
    "# Plot the data\n",
    "grouped_data.plot(kind='line', figsize=(15, 5))\n",
    "plt.xlabel('Publish Day')\n",
    "plt.ylabel('Number of Articles')\n",
    "plt.title('Trend of Categories Over The Days')\n",
    "plt.legend(title='Category', loc = \"upper right\")\n",
    "plt.show()\n",
    "\n",
    "#We can see that news articles are the most common over the years by far. also can see a big decrease in the volumne of the articles from 2010 in all categories\n"
   ]
  },
  {
   "cell_type": "code",
   "execution_count": null,
   "metadata": {
    "colab": {
     "base_uri": "https://localhost:8080/",
     "height": 487
    },
    "id": "GVe5AY95-hi7",
    "outputId": "76cfe3ab-d937-48f1-e4e2-d7f6a06e4411"
   },
   "outputs": [],
   "source": [
    "#Plotting a trend graph over the years of publish dates to see categories volume trend\n",
    "\n",
    "grouped_data = data.groupby([data['month'], 'headline_category']).size().unstack()\n",
    "\n",
    "# Plot the data\n",
    "grouped_data.plot(kind='line', figsize=(15, 5))\n",
    "plt.xlabel('Publish Month')\n",
    "plt.ylabel('Number of Articles')\n",
    "plt.title('Trend of Categories Over The Months')\n",
    "plt.legend(title='Category', loc = \"upper right\")\n",
    "plt.show()\n",
    "\n",
    "#We can see that news articles are the most common over the years by far. also can see a big decrease in the volumne of the articles from 2010 in all categories"
   ]
  },
  {
   "cell_type": "code",
   "execution_count": null,
   "metadata": {
    "colab": {
     "base_uri": "https://localhost:8080/"
    },
    "id": "SyD51TFBZbtf",
    "outputId": "cb4e02c8-ad11-4009-cc3b-d140e78c4439"
   },
   "outputs": [],
   "source": [
    "# Removing stop words using the WordNetLemmatizer library\n",
    "\n",
    "nltk.download('stopwords')\n",
    "nltk.download('punkt')\n",
    "nltk.download('wordnet')\n",
    "\n",
    "wordnet = WordNetLemmatizer()\n",
    "stop_words = stopwords.words('english')\n",
    "\n",
    "for punct in punctuation:\n",
    "    stop_words.append(punct)\n",
    "\n",
    "def filter_text(text, stop_words):\n",
    "    if isinstance(text, str):\n",
    "        word_tokens = WordPunctTokenizer().tokenize(text.lower())\n",
    "        filtered_text = [regex.sub(u'\\p{^Latin}', u'', w) for w in word_tokens if w.isalpha()]\n",
    "        filtered_text = [wordnet.lemmatize(w, pos=\"v\") for w in filtered_text if not w in stop_words]\n",
    "        return \" \".join(filtered_text)\n",
    "    else:\n",
    "        return \"\"\n",
    "data['headline_text'] = data['headline_text'].apply(lambda x: filter_text(x, stop_words))\n"
   ]
  },
  {
   "cell_type": "code",
   "execution_count": null,
   "metadata": {
    "colab": {
     "base_uri": "https://localhost:8080/",
     "height": 647
    },
    "id": "jNWuphE2UtKe",
    "outputId": "a9c3d57b-8a64-44b2-e659-30a178b7f6f0"
   },
   "outputs": [],
   "source": [
    "def words_frequency(x):\n",
    "  data_category = data[data[\"headline_category\"] == x]\n",
    "  data_words_category = data_category[\"headline_text\"].str.split(expand=True).stack().value_counts()\n",
    "  data_words_category = pd.DataFrame(data_words_category)\n",
    "  data_words_category = data_words_category.rename(columns={ 0: \"count\"})\n",
    "  #data_words_category = data_words_category(columns={ 0: \"count\"}, errors=\"raise\")\n",
    "  data_words_category = data_words_category.reset_index()\n",
    "  data_words_category = data_words_category.rename(columns={ \"index\": \"words\"}, errors=\"raise\")\n",
    "  headline = x.capitalize() + ' Words Frequency'\n",
    "  fig = px.treemap(data_words_category[0:100], path=[px.Constant(headline), 'words'],\n",
    "                     values='count',\n",
    "                     color='count',\n",
    "                     color_continuous_scale='viridis',\n",
    "                     color_continuous_midpoint=np.average(data_words_category['count'])\n",
    "                     )\n",
    "  fig.update_layout(margin = dict(t=50, l=25, r=25, b=25))\n",
    "  fig.show()\n",
    "\n",
    "x='news'\n",
    "#headline = x.capitalize() + ' Words Frequency'\n",
    "words_frequency(x)\n",
    "\n",
    "\n",
    "'''\n",
    "data_news = data[data[\"headline_category\"] == \"news\"]\n",
    "data_words_news = data_news[\"headline_text\"].str.split(expand=True).stack().value_counts()\n",
    "data_words_news = pd.DataFrame(data_words_news)\n",
    "data_words_category = data_words_category.rename(columns={ 0: \"count\"})\n",
    "#data_words_news = data_words_news.rename(columns={ 0: \"count\"}, errors=\"raise\")\n",
    "data_words_news = data_words_news.reset_index()\n",
    "data_words_news = data_words_news.rename(columns={ \"index\": \"words\"}, errors=\"raise\")\n",
    "fig = px.treemap(data_words_news[0:100], path=[px.Constant(\"News Words Frequency\"), 'words'],\n",
    "                 values='count',\n",
    "                 color='count',\n",
    "                 color_continuous_scale='viridis',\n",
    "                 color_continuous_midpoint=np.average(data_words_news['count'])\n",
    "                )\n",
    "fig.update_layout(margin = dict(t=50, l=25, r=25, b=25))\n",
    "fig.show()\n",
    "'''\n",
    "\n",
    "\n"
   ]
  },
  {
   "cell_type": "code",
   "execution_count": null,
   "metadata": {
    "colab": {
     "base_uri": "https://localhost:8080/",
     "height": 542
    },
    "id": "SS0DbPwRItP8",
    "outputId": "c1db62ce-51f0-4c0a-84a8-a4781b9be3bf"
   },
   "outputs": [],
   "source": [
    "words_frequency('business')"
   ]
  },
  {
   "cell_type": "code",
   "execution_count": null,
   "metadata": {
    "colab": {
     "base_uri": "https://localhost:8080/",
     "height": 542
    },
    "id": "bpsduay366Iy",
    "outputId": "8a50a9e6-2b17-49f3-eb81-1fcc54ca8f5d"
   },
   "outputs": [],
   "source": [
    "words_frequency('sport')"
   ]
  },
  {
   "cell_type": "code",
   "execution_count": null,
   "metadata": {
    "colab": {
     "base_uri": "https://localhost:8080/",
     "height": 542
    },
    "id": "Gv8T20yG9prW",
    "outputId": "dd72f599-8bbf-4601-cdb1-aabb1916e941"
   },
   "outputs": [],
   "source": [
    "words_frequency('culture')"
   ]
  },
  {
   "cell_type": "code",
   "execution_count": null,
   "metadata": {
    "colab": {
     "base_uri": "https://localhost:8080/",
     "height": 542
    },
    "id": "p4j8GlDED53H",
    "outputId": "3924f2b3-1fbb-41ff-deab-df77757165a6"
   },
   "outputs": [],
   "source": [
    "words_frequency('opinion')"
   ]
  },
  {
   "cell_type": "code",
   "execution_count": null,
   "metadata": {
    "colab": {
     "base_uri": "https://localhost:8080/",
     "height": 542
    },
    "id": "rTDuxOeuEypi",
    "outputId": "a52306aa-dd1e-41c9-ff5d-1d953513dbf0"
   },
   "outputs": [],
   "source": [
    "words_frequency('lifestyle')"
   ]
  },
  {
   "cell_type": "code",
   "execution_count": null,
   "metadata": {
    "colab": {
     "base_uri": "https://localhost:8080/",
     "height": 430
    },
    "id": "iHdrxVdV-z27",
    "outputId": "d77802ae-7521-493d-940b-43aa31e0f17e"
   },
   "outputs": [],
   "source": [
    "# Word To Vector\n",
    "import pandas as pd\n",
    "import numpy as np\n",
    "from gensim.models import Word2Vec\n",
    "from sklearn.decomposition import PCA\n",
    "from matplotlib import pyplot\n",
    "\n",
    "# Load the data\n",
    "\n",
    "# Split the headline text into words and store them as a list\n",
    "sentences = [headline.split() for headline in data[\"headline_text\"].tolist()]\n",
    "\n",
    "# Train Word2Vec model\n",
    "model = Word2Vec(sentences, vector_size=100, window=5, min_count=5, workers=4)\n",
    "\n",
    "from collections import Counter\n",
    "\n",
    "word_counts = Counter([word for sentence in sentences for word in sentence])\n",
    "#min_count = 7500 # Change this value to set the minimum number of occurrences for a word to be included in the model\n",
    "#min_count1 = 9000\n",
    "min_count1 = 1000\n",
    "#max_count = 10000 # Change this value to set the maximum number of occurrences for a word to be included in the model\n",
    "#max_count1 = 20000\n",
    "max_count1 = 30000\n",
    "#filtered_sentences = [[word for word in sentence if min_count <= word_counts[word] <= max_count] for sentence in sentences]\n",
    "filtered_sentences1 = [[word for word in sentence if min_count1 <= word_counts[word] <= max_count1] for sentence in sentences]\n",
    "# Train Word2Vec model\n",
    "from gensim.models import Word2Vec\n",
    "\n",
    "#model = Word2Vec(filtered_sentences, vector_size=100, window=3, min_count=min_count, workers=4)\n",
    "model1 = Word2Vec(filtered_sentences1, vector_size=100, window=3, min_count=min_count1, workers=4)\n",
    "\n",
    "X = model1.wv[model1.wv.key_to_index]\n",
    "pca = PCA(n_components=2)\n",
    "result = pca.fit_transform(X)\n",
    "\n",
    "# Plot the 2D word vector space\n",
    "fig, ax = pyplot.subplots()\n",
    "ax.scatter(result[:, 0], result[:, 1])\n",
    "words = list(model1.wv.key_to_index.keys())\n",
    "for i, word in enumerate(words):\n",
    "    ax.annotate(word, xy=(result[i, 0], result[i, 1]))\n",
    "pyplot.show()"
   ]
  },
  {
   "cell_type": "markdown",
   "metadata": {
    "id": "tyo1NRd8Aq3t"
   },
   "source": [
    "The Word2Vec model represents words as high-dimensional vectors, typically with several hundred dimensions. This means that each word is represented by a point in a space that has several hundred axes, with each axis representing a different aspect of the word's meaning.\n",
    "\n",
    "However, it is difficult for us to visualize points in a space with more than three dimensions. Therefore, in order to make the word vectors more easily interpretable, we need to reduce the dimensionality of the space to two or three dimensions.\n",
    "\n",
    "This is where PCA comes in. PCA is a mathematical technique that takes the high-dimensional word vectors and finds the two directions in the space that explain the most variation in the data. These two directions are called the principal components, and they are chosen in such a way that the first principal component captures the most variation in the data, and the second principal component captures the most variation that is orthogonal (perpendicular) to the first principal component.\n",
    "\n",
    "So, when we plot the word vectors in the two-dimensional space defined by the two principal components, each word is represented by a point in this 2D space, with its x-coordinate corresponding to its projection onto the first principal component, and its y-coordinate corresponding to its projection onto the second principal component.\n",
    "\n",
    "**By visualizing the word vectors in this 2D space, we can gain insights into the relationships between words based on their similarities and differences in meaning. For example, words that are semantically similar will be closer to each other in the 2D space, while words that are semantically dissimilar will be further apart.**"
   ]
  },
  {
   "cell_type": "code",
   "execution_count": null,
   "metadata": {
    "colab": {
     "base_uri": "https://localhost:8080/",
     "height": 507
    },
    "id": "ccMQIlwniyVS",
    "outputId": "830581d8-338a-4e9f-9e6c-28948d28dfbd"
   },
   "outputs": [],
   "source": [
    "# tokenize headlines into sentences\n",
    "sentences = []\n",
    "for headline in data['headline_text']:\n",
    "    sentences.extend(nltk.sent_tokenize(headline))\n",
    "\n",
    "# get lengths of each sentence\n",
    "sentence_lengths = [len(nltk.word_tokenize(sentence)) for sentence in sentences]\n",
    "\n",
    "# calculate summary statistics\n",
    "mean_length = sum(sentence_lengths) / len(sentence_lengths)\n",
    "std_dev = np.std(sentence_lengths)\n",
    "\n",
    "# create histogram of sentence lengths\n",
    "plt.hist(sentence_lengths, bins=10)\n",
    "plt.title(\"Distribution of Sentence Lengths in Headlines\")\n",
    "plt.xlabel(\"Sentence Length (in words)\")\n",
    "plt.ylabel(\"Frequency\")\n",
    "plt.show()\n",
    "\n",
    "# print summary statistics\n",
    "print(\"Mean sentence length:\", mean_length)\n",
    "print(\"Standard deviation of sentence lengths:\", std_dev)"
   ]
  },
  {
   "cell_type": "code",
   "execution_count": null,
   "metadata": {
    "id": "ThSKQn8rbbcD"
   },
   "outputs": [],
   "source": [
    "#################\n",
    "tokenized_sentences = [nltk.word_tokenize(sentence.lower()) for sentence in sentences] #BE AWARE THAT I ALREADY SPLIT THE DATA\n",
    " #!!!#                                                                                      #TO A LIST OF WORDS SO THERE IS A CHANCE\n",
    "# Extract the vocabulary and embeddings from the Word2Vec model                        #THAT I TOKENIZED TWICE\n",
    "vocabulary = model1.wv.index_to_key\n",
    "embeddings = model1.wv.vectors\n",
    "co_occurrence_matrix = np.zeros((len(vocabulary), len(vocabulary)))\n",
    "\n",
    "# Set the window size for co-occurrence\n",
    "window_size = 2\n",
    "\n",
    "#Build the co-occurence matrix\n",
    "for sentence in tokenized_sentences:\n",
    "    for i, word in enumerate(sentence):\n",
    "        if word in vocabulary:\n",
    "            context = sentence[max(0, i - window_size) : i] + sentence[i + 1 : i + window_size + 1]\n",
    "            for context_word in context:\n",
    "                if context_word in vocabulary:\n",
    "                    co_occurrence_matrix[model1.wv.key_to_index[word]][model1.wv.key_to_index[context_word]] += 1\n",
    "\n",
    "# Normalize the co-occurrence matrix\n",
    "co_occurrence_matrix = co_occurrence_matrix / np.diag(co_occurrence_matrix)"
   ]
  },
  {
   "cell_type": "code",
   "execution_count": null,
   "metadata": {
    "id": "X9wfcA-1_hBp"
   },
   "outputs": [],
   "source": [
    "#######################\n",
    "from sklearn.model_selection import train_test_split\n",
    "\n",
    "# sentences is a list of tokenized sentences\n",
    "train_sentences, test_sentences = train_test_split(sentences, test_size=0.2, random_state=42)\n",
    "\n",
    "# train the Word2Vec model on the training data\n",
    "model = Word2Vec(train_sentences, vector_size=100, window=3, min_count=5, workers=4)\n",
    "\n",
    "# evaluate the model on the testing data\n",
    "accuracy = model.evaluate(test_sentences)"
   ]
  },
  {
   "cell_type": "code",
   "execution_count": null,
   "metadata": {
    "colab": {
     "base_uri": "https://localhost:8080/"
    },
    "id": "DHQ5VCrxUU1i",
    "outputId": "67cf99e9-6ba1-47b1-ccb4-ebdd638b945f"
   },
   "outputs": [],
   "source": [
    "!pip install transformers"
   ]
  },
  {
   "cell_type": "code",
   "execution_count": null,
   "metadata": {
    "colab": {
     "base_uri": "https://localhost:8080/"
    },
    "id": "YFfryyosClop",
    "outputId": "f2cf4354-076e-477c-e87b-239159707dbf"
   },
   "outputs": [],
   "source": [
    "!pip install transformers datasets"
   ]
  },
  {
   "cell_type": "markdown",
   "metadata": {
    "id": "6jxgt1MwAT3N"
   },
   "source": [
    "TEST FOR Bert Training\n",
    "\n"
   ]
  },
  {
   "cell_type": "code",
   "execution_count": null,
   "metadata": {
    "id": "bpEeZWrzAhbH"
   },
   "outputs": [],
   "source": [
    "import pandas as pd\n",
    "from torch.utils.data import TensorDataset, DataLoader, Dataset\n",
    "from transformers import AutoModelForSequenceClassification, AutoTokenizer, AutoConfig\n",
    "import torch\n",
    "import torch.nn.utils.prune as prune\n",
    "from datasets import load_dataset, load_metric\n",
    "from torch.utils.data import TensorDataset, DataLoader, Dataset\n",
    "from sklearn import preprocessing"
   ]
  },
  {
   "cell_type": "code",
   "execution_count": null,
   "metadata": {
    "colab": {
     "base_uri": "https://localhost:8080/",
     "height": 188,
     "referenced_widgets": [
      "44d8dc05d7694f558a55de1ed88d5285",
      "9d9eb1facb6844d4814cd21e71cb00a2",
      "9e357481dfe243379072b47783b9f9d9",
      "5b0208fc4c284f3c9c5a498b7551a9f2",
      "c85eed1f33ef4b5b8e05bc9f11de6b12",
      "4b45e603f6ea40aabee0986f170c5da5",
      "5c3d8bfb9e114df2af10865f83ab165b",
      "9800b1c7572e455ca4de2f242dba74a2",
      "010d257b02d74563adae34aa4aebcaaa",
      "5e7dd10949dd423b9ce84fce9f0cc639",
      "ca653ef7c3dc4f08a5c64e808af7a049",
      "5e52b186de4e4d7d918469562b73327b",
      "b2337dfd48dd4064b902a9e3c477889b",
      "6756c15a68be48aa94ee610f2848eebf",
      "b28d983569e3432d8afd52978977b723",
      "563242e5d555450da166668e09bebad1",
      "7bba2edc7dd949b2a9ef44d2c3ec4f94",
      "2c3db25eecad450d816d0d9eec21ff7d",
      "ecbce9d228644280ad825f42767f3166",
      "f3c4bc1ab4584d7ca439a6588a1952e6",
      "5c17968a43b141998b0e5fda234d088c",
      "cab4bb0b1b0d4b0a8adfc95080ead4bc"
     ]
    },
    "id": "3aBCDir-DFSs",
    "outputId": "cde0bdf9-c9e1-4a88-ae76-8c4efdb93e11"
   },
   "outputs": [],
   "source": [
    "#was df = data\n",
    "df= data\n",
    "model_name = 'albert-base-v2'\n",
    "#model_name = 'bert-base-uncased'\n",
    "num_of_labels = len(data['headline_category'].unique())\n",
    "model_seq_classification = AutoModelForSequenceClassification.from_pretrained(model_name, num_labels=num_of_labels)\n",
    "optimizer = torch.optim.Adam(model_seq_classification.parameters(), lr=1e-5)\n",
    "loss_func = torch.nn.CrossEntropyLoss()"
   ]
  },
  {
   "cell_type": "code",
   "execution_count": null,
   "metadata": {
    "colab": {
     "base_uri": "https://localhost:8080/"
    },
    "id": "xlrFmrretbDX",
    "outputId": "14775e0a-a78e-42c8-a792-a87e630016b7"
   },
   "outputs": [],
   "source": [
    "for param in list(model_seq_classification.named_parameters()):\n",
    "    print(param)\n",
    "    prune.l1_unstructured(model_seq_classification.albert.embeddings.word_embeddings, name=\"weight\", amount=3)\n",
    "for buffer in model_seq_classification.named_buffers():\n",
    "    print(buffer)"
   ]
  },
  {
   "cell_type": "code",
   "execution_count": null,
   "metadata": {
    "id": "zi1wyP3q_SYT"
   },
   "outputs": [],
   "source": [
    "class rumor_ds(Dataset):\n",
    "    def __init__(self, data, transform=None):\n",
    "        self.df = data\n",
    "        self.transform = transform\n",
    "\n",
    "    def __len__(self):\n",
    "        return self.df.shape[0]\n",
    "\n",
    "    def __getitem__(self, index):\n",
    "        x = self.df.iloc[index]['headline_text']\n",
    "        label = self.df.iloc[index]['headline_category']\n",
    "\n",
    "        if self.transform:\n",
    "            for trans in self.transform:\n",
    "                #x, attention_mask = trans(x)\n",
    "                x = trans(x)\n",
    "        return x, label\n",
    "\n",
    "\n",
    "class Tokenize():\n",
    "    def __init__(self, model_name, max_length=128):\n",
    "        self.tokenizer = AutoTokenizer.from_pretrained(model_name)\n",
    "        self.max_length = max_length\n",
    "\n",
    "    def __call__(self, sample):\n",
    "        data = self.tokenizer(sample, max_length=self.max_length, truncation=True, padding='max_length', return_tensors='pt')\n",
    "        return data\n",
    "        #return torch.tensor(data['input_ids']), torch.tensor(data['attention_mask'])"
   ]
  },
  {
   "cell_type": "code",
   "execution_count": null,
   "metadata": {
    "colab": {
     "base_uri": "https://localhost:8080/"
    },
    "id": "NM9IFhLTSXH2",
    "outputId": "18784fdf-2a12-4545-8ac5-46276bdbbbe3"
   },
   "outputs": [],
   "source": [
    "# Cutting the data to 5% so we can run it\n",
    "# Define the percentage of data to be randomly selected\n",
    "# Define the percentage of data to be randomly selected\n",
    "percentage = 0.05\n",
    "\n",
    "# Group the data by category\n",
    "grouped_df = df.groupby('headline_category')\n",
    "\n",
    "# Create an empty dataframe to store the randomly selected data\n",
    "new_df = pd.DataFrame()\n",
    "\n",
    "# Iterate over each category\n",
    "for category, group in grouped_df:\n",
    "    # Calculate the number of rows to be selected for this category\n",
    "    num_rows = int(len(group) * percentage)\n",
    "\n",
    "    # Randomly select the rows\n",
    "    random_rows = group.sample(n=num_rows, random_state=42)  # Setting random_state for reproducibility\n",
    "\n",
    "    # Append the randomly selected rows to the new dataframe\n",
    "    new_df = new_df.append(random_rows)\n",
    "\n",
    "# Reset the index of the new dataframe\n",
    "new_df.reset_index(drop=True, inplace=True)\n",
    "\n",
    "# Display the new dataframe\n",
    "new_df[\"headline_category\"].value_counts()"
   ]
  },
  {
   "cell_type": "code",
   "execution_count": null,
   "metadata": {
    "id": "_SbICrmNKaIB"
   },
   "outputs": [],
   "source": [
    "from sklearn.model_selection import train_test_split\n",
    "\n",
    "# Split the dataset into train and validation sets\n",
    "train_data, val_data = train_test_split(new_df, test_size=0.2, random_state=42)"
   ]
  },
  {
   "cell_type": "code",
   "execution_count": null,
   "metadata": {
    "colab": {
     "base_uri": "https://localhost:8080/",
     "height": 775,
     "referenced_widgets": [
      "11ba3fd6a7f94617a6fd3c10117f4446",
      "c0bcf6965fd3444db8ed22d2d1de5f2c",
      "1e0a5560a59a4f6f97dddcb94319d172",
      "60a5e18092ed4a2f9d7e67174fca97c6",
      "da20f493740745c3a43b86ab3a087cc9",
      "cbf64eb11aa844ee89f57c21c7c79353",
      "dbf46b08603544f3900606eec273d868",
      "a28999e95c9c4709bb4dcc0182fb367f",
      "153a832027f04dc49b886a7222731fb7",
      "51f2cd40afff41a9aa5d0e106e6f23ec",
      "8b30616e17944982b8292fcadbf2dc1e",
      "bbdcf4313aa34d9f94c84a7eec47c73c",
      "6499876b1d2f4b2dbbccc0172271886e",
      "a9254c3e3a1b4590bae4c365bb343a3f",
      "d5ea1a0a38834395bbcaf5fa5fbf0b0b",
      "50c244d50a3d4d25b183a241d755206e",
      "1bdd563487f94c93b2da7b5db629d151",
      "06261fddb8264a4a9e8781203a13c5e3",
      "2520cd46fd0340109c9cbb534c4f2710",
      "29360173a5af41e9ab4b32dd051fc36e",
      "cb37c8b4eb2a4d3c89499dada28abe9b",
      "948eff853add4bb9880517f4e17410d5"
     ]
    },
    "id": "BhUmUZuYLDPQ",
    "outputId": "b7fc3870-e363-4bb2-f3e8-f7ad11cc9207"
   },
   "outputs": [],
   "source": [
    "torch.cuda.empty_cache()\n",
    "train_dataset = rumor_ds(train_data, [Tokenize(model_name)])\n",
    "#train_dataset = rumor_ds(train_data, [Tokenize(model_name)])\n",
    "val_dataset = rumor_ds(val_data, [Tokenize(model_name)])\n",
    "#val_dataset = rumor_ds(train_data, [Tokenize(model_name)])\n",
    "train_dataloader = DataLoader(train_dataset, shuffle=True, batch_size=64)\n",
    "val_dataloader = DataLoader(val_dataset, batch_size=64, shuffle=True)\n",
    "epochs = 3\n",
    "device = torch.device(\"cuda\" if torch.cuda.is_available() else \"cpu\")\n",
    "model_seq_classification.to(device)"
   ]
  },
  {
   "cell_type": "code",
   "execution_count": null,
   "metadata": {
    "colab": {
     "base_uri": "https://localhost:8080/"
    },
    "id": "ZFe7I_ViHVmN",
    "outputId": "96a85e67-74b2-49a7-e215-6dcad6184541"
   },
   "outputs": [],
   "source": [
    "import time\n",
    "from tqdm import tqdm\n",
    "import matplotlib.pyplot as plt\n",
    "\n",
    "count = 0\n",
    "le = preprocessing.LabelEncoder()\n",
    "labels = df['headline_category'].unique()\n",
    "le.fit(labels)\n",
    "\n",
    "train_accuracies = []\n",
    "test_accuracies = []\n",
    "\n",
    "train_losses = []\n",
    "test_losses = []\n",
    "\n",
    "for e in range(epochs):\n",
    "    total_loss = 0\n",
    "    total_correct = 0\n",
    "    total_samples = 0\n",
    "\n",
    "    start_time = time.time()\n",
    "\n",
    "    # Training phase\n",
    "    train_loss = 0.0\n",
    "    train_correct = 0\n",
    "    train_total = 0\n",
    "\n",
    "    progress_bar = tqdm(train_dataloader, desc=f\"Epoch {e + 1}\", leave=False)\n",
    "\n",
    "    for inputs, targets in progress_bar:\n",
    "        targets = torch.LongTensor(le.transform(targets))\n",
    "        inputs = {key: value.squeeze(1).to(device) for key, value in inputs.items()}\n",
    "        targets = targets.to(device)\n",
    "\n",
    "        optimizer.zero_grad()\n",
    "        outputs = model_seq_classification(**inputs, labels=targets)\n",
    "        batch_loss = outputs.loss\n",
    "        batch_loss.backward()\n",
    "        optimizer.step()\n",
    "\n",
    "        total_loss += batch_loss.item()\n",
    "        total_correct += (outputs.logits.argmax(dim=1) == targets).sum().item()\n",
    "        total_samples += targets.size(0)\n",
    "\n",
    "        progress_bar.set_postfix(loss=f\"{total_loss / total_samples:.4f}\", accuracy=f\"{total_correct / total_samples:.4f}\")\n",
    "\n",
    "    train_loss = total_loss / len(train_dataloader)\n",
    "    train_accuracy = total_correct / total_samples\n",
    "\n",
    "    # Validation phase\n",
    "    model_seq_classification.eval()\n",
    "    val_loss = 0.0\n",
    "    val_correct = 0\n",
    "    val_total = 0\n",
    "\n",
    "    with torch.no_grad():\n",
    "        for val_inputs, val_targets in val_dataloader:\n",
    "            val_targets = torch.LongTensor(le.transform(val_targets))\n",
    "            val_inputs = {key: value.squeeze(1).to(device) for key, value in val_inputs.items()}\n",
    "            val_targets = val_targets.to(device)\n",
    "\n",
    "            val_outputs = model_seq_classification(**val_inputs, labels=val_targets)\n",
    "            val_batch_loss = val_outputs.loss\n",
    "\n",
    "            val_loss += val_batch_loss.item()\n",
    "            val_correct += (val_outputs.logits.argmax(dim=1) == val_targets).sum().item()\n",
    "            val_total += val_targets.size(0)\n",
    "\n",
    "    val_loss /= len(val_dataloader)\n",
    "    val_accuracy = val_correct / val_total\n",
    "\n",
    "    elapsed_time = time.time() - start_time\n",
    "\n",
    "    print(f\"Epoch {e+1}:\")\n",
    "    print(f\"Train Loss = {train_loss:.4f}, Train Accuracy = {train_accuracy:.4f}\")\n",
    "    print(f\"Validation Loss = {val_loss:.4f}, Validation Accuracy = {val_accuracy:.4f}\")\n",
    "    print(f\"Elapsed time: {elapsed_time:.2f} seconds\")\n",
    "\n",
    "    train_accuracies.append(train_accuracy)\n",
    "    test_accuracies.append(val_accuracy)\n",
    "\n",
    "    train_losses.append(train_loss)\n",
    "    test_losses.append(val_loss)\n",
    "\n",
    "# Create plots\n",
    "plt.figure(figsize=(10, 5))\n",
    "\n",
    "# Train Accuracy VS Test Accuracy\n",
    "plt.subplot(1, 2, 1)\n",
    "plt.plot(range(1, epochs + 1), train_accuracies, label='Train Accuracy')\n",
    "plt.plot(range(1, epochs + 1), test_accuracies, label='Test Accuracy')\n",
    "plt.xlabel('Epoch')\n",
    "plt.ylabel('Accuracy')\n",
    "plt.title('Train Accuracy VS Test Accuracy')\n",
    "plt.legend()\n",
    "\n",
    "# Train Loss VS Test Loss\n",
    "plt.subplot(1, 2, 2)\n",
    "plt.plot(range(1, epochs + 1), train_losses, label='Train Loss')\n",
    "plt.plot(range(1, epochs + 1), test_losses, label='Test Loss')\n",
    "plt.xlabel('Epoch')\n",
    "plt.ylabel('Loss')\n",
    "plt.title('Train Loss VS Test Loss')\n",
    "plt.legend()\n",
    "\n",
    "# Adjust the layout to prevent overlapping of subplots\n",
    "plt.tight_layout()\n",
    "\n",
    "# Show the plots\n",
    "plt.show()\n"
   ]
  },
  {
   "cell_type": "code",
   "execution_count": null,
   "metadata": {
    "id": "xNi98BzboQfH"
   },
   "outputs": [],
   "source": [
    "headline = 'Your headline goes here'\n",
    "headline_encoding = tokenizer.encode_plus(headline, truncation=True, padding=True, return_tensors='tf')\n",
    "input_ids = headline_encoding['input_ids']\n",
    "attention_mask = headline_encoding['attention_mask']\n",
    "\n",
    "input_ids = np.array(input_ids)\n",
    "attention_mask = np.array(attention_mask)\n",
    "\n",
    "predictions = model.predict([input_ids, attention_mask])\n",
    "predicted_label_index = np.argmax(predictions, axis=1)[0]\n",
    "predicted_label = label_encoder.inverse_transform([predicted_label_index])[0]\n",
    "\n",
    "print('Predicted label:', predicted_label)"
   ]
  }
 ],
 "metadata": {
  "accelerator": "GPU",
  "colab": {
   "machine_shape": "hm",
   "provenance": []
  },
  "kernelspec": {
   "display_name": "Python 3 (ipykernel)",
   "language": "python",
   "name": "python3"
  },
  "language_info": {
   "codemirror_mode": {
    "name": "ipython",
    "version": 3
   },
   "file_extension": ".py",
   "mimetype": "text/x-python",
   "name": "python",
   "nbconvert_exporter": "python",
   "pygments_lexer": "ipython3",
   "version": "3.9.13"
  },
  "widgets": {
   "application/vnd.jupyter.widget-state+json": {
    "010d257b02d74563adae34aa4aebcaaa": {
     "model_module": "@jupyter-widgets/controls",
     "model_module_version": "1.5.0",
     "model_name": "ProgressStyleModel",
     "state": {
      "_model_module": "@jupyter-widgets/controls",
      "_model_module_version": "1.5.0",
      "_model_name": "ProgressStyleModel",
      "_view_count": null,
      "_view_module": "@jupyter-widgets/base",
      "_view_module_version": "1.2.0",
      "_view_name": "StyleView",
      "bar_color": null,
      "description_width": ""
     }
    },
    "06261fddb8264a4a9e8781203a13c5e3": {
     "model_module": "@jupyter-widgets/controls",
     "model_module_version": "1.5.0",
     "model_name": "DescriptionStyleModel",
     "state": {
      "_model_module": "@jupyter-widgets/controls",
      "_model_module_version": "1.5.0",
      "_model_name": "DescriptionStyleModel",
      "_view_count": null,
      "_view_module": "@jupyter-widgets/base",
      "_view_module_version": "1.2.0",
      "_view_name": "StyleView",
      "description_width": ""
     }
    },
    "11ba3fd6a7f94617a6fd3c10117f4446": {
     "model_module": "@jupyter-widgets/controls",
     "model_module_version": "1.5.0",
     "model_name": "HBoxModel",
     "state": {
      "_dom_classes": [],
      "_model_module": "@jupyter-widgets/controls",
      "_model_module_version": "1.5.0",
      "_model_name": "HBoxModel",
      "_view_count": null,
      "_view_module": "@jupyter-widgets/controls",
      "_view_module_version": "1.5.0",
      "_view_name": "HBoxView",
      "box_style": "",
      "children": [
       "IPY_MODEL_c0bcf6965fd3444db8ed22d2d1de5f2c",
       "IPY_MODEL_1e0a5560a59a4f6f97dddcb94319d172",
       "IPY_MODEL_60a5e18092ed4a2f9d7e67174fca97c6"
      ],
      "layout": "IPY_MODEL_da20f493740745c3a43b86ab3a087cc9"
     }
    },
    "153a832027f04dc49b886a7222731fb7": {
     "model_module": "@jupyter-widgets/controls",
     "model_module_version": "1.5.0",
     "model_name": "ProgressStyleModel",
     "state": {
      "_model_module": "@jupyter-widgets/controls",
      "_model_module_version": "1.5.0",
      "_model_name": "ProgressStyleModel",
      "_view_count": null,
      "_view_module": "@jupyter-widgets/base",
      "_view_module_version": "1.2.0",
      "_view_name": "StyleView",
      "bar_color": null,
      "description_width": ""
     }
    },
    "1bdd563487f94c93b2da7b5db629d151": {
     "model_module": "@jupyter-widgets/base",
     "model_module_version": "1.2.0",
     "model_name": "LayoutModel",
     "state": {
      "_model_module": "@jupyter-widgets/base",
      "_model_module_version": "1.2.0",
      "_model_name": "LayoutModel",
      "_view_count": null,
      "_view_module": "@jupyter-widgets/base",
      "_view_module_version": "1.2.0",
      "_view_name": "LayoutView",
      "align_content": null,
      "align_items": null,
      "align_self": null,
      "border": null,
      "bottom": null,
      "display": null,
      "flex": null,
      "flex_flow": null,
      "grid_area": null,
      "grid_auto_columns": null,
      "grid_auto_flow": null,
      "grid_auto_rows": null,
      "grid_column": null,
      "grid_gap": null,
      "grid_row": null,
      "grid_template_areas": null,
      "grid_template_columns": null,
      "grid_template_rows": null,
      "height": null,
      "justify_content": null,
      "justify_items": null,
      "left": null,
      "margin": null,
      "max_height": null,
      "max_width": null,
      "min_height": null,
      "min_width": null,
      "object_fit": null,
      "object_position": null,
      "order": null,
      "overflow": null,
      "overflow_x": null,
      "overflow_y": null,
      "padding": null,
      "right": null,
      "top": null,
      "visibility": null,
      "width": null
     }
    },
    "1e0a5560a59a4f6f97dddcb94319d172": {
     "model_module": "@jupyter-widgets/controls",
     "model_module_version": "1.5.0",
     "model_name": "FloatProgressModel",
     "state": {
      "_dom_classes": [],
      "_model_module": "@jupyter-widgets/controls",
      "_model_module_version": "1.5.0",
      "_model_name": "FloatProgressModel",
      "_view_count": null,
      "_view_module": "@jupyter-widgets/controls",
      "_view_module_version": "1.5.0",
      "_view_name": "ProgressView",
      "bar_style": "success",
      "description": "",
      "description_tooltip": null,
      "layout": "IPY_MODEL_a28999e95c9c4709bb4dcc0182fb367f",
      "max": 760289,
      "min": 0,
      "orientation": "horizontal",
      "style": "IPY_MODEL_153a832027f04dc49b886a7222731fb7",
      "value": 760289
     }
    },
    "2520cd46fd0340109c9cbb534c4f2710": {
     "model_module": "@jupyter-widgets/base",
     "model_module_version": "1.2.0",
     "model_name": "LayoutModel",
     "state": {
      "_model_module": "@jupyter-widgets/base",
      "_model_module_version": "1.2.0",
      "_model_name": "LayoutModel",
      "_view_count": null,
      "_view_module": "@jupyter-widgets/base",
      "_view_module_version": "1.2.0",
      "_view_name": "LayoutView",
      "align_content": null,
      "align_items": null,
      "align_self": null,
      "border": null,
      "bottom": null,
      "display": null,
      "flex": null,
      "flex_flow": null,
      "grid_area": null,
      "grid_auto_columns": null,
      "grid_auto_flow": null,
      "grid_auto_rows": null,
      "grid_column": null,
      "grid_gap": null,
      "grid_row": null,
      "grid_template_areas": null,
      "grid_template_columns": null,
      "grid_template_rows": null,
      "height": null,
      "justify_content": null,
      "justify_items": null,
      "left": null,
      "margin": null,
      "max_height": null,
      "max_width": null,
      "min_height": null,
      "min_width": null,
      "object_fit": null,
      "object_position": null,
      "order": null,
      "overflow": null,
      "overflow_x": null,
      "overflow_y": null,
      "padding": null,
      "right": null,
      "top": null,
      "visibility": null,
      "width": null
     }
    },
    "29360173a5af41e9ab4b32dd051fc36e": {
     "model_module": "@jupyter-widgets/controls",
     "model_module_version": "1.5.0",
     "model_name": "ProgressStyleModel",
     "state": {
      "_model_module": "@jupyter-widgets/controls",
      "_model_module_version": "1.5.0",
      "_model_name": "ProgressStyleModel",
      "_view_count": null,
      "_view_module": "@jupyter-widgets/base",
      "_view_module_version": "1.2.0",
      "_view_name": "StyleView",
      "bar_color": null,
      "description_width": ""
     }
    },
    "2c3db25eecad450d816d0d9eec21ff7d": {
     "model_module": "@jupyter-widgets/controls",
     "model_module_version": "1.5.0",
     "model_name": "DescriptionStyleModel",
     "state": {
      "_model_module": "@jupyter-widgets/controls",
      "_model_module_version": "1.5.0",
      "_model_name": "DescriptionStyleModel",
      "_view_count": null,
      "_view_module": "@jupyter-widgets/base",
      "_view_module_version": "1.2.0",
      "_view_name": "StyleView",
      "description_width": ""
     }
    },
    "44d8dc05d7694f558a55de1ed88d5285": {
     "model_module": "@jupyter-widgets/controls",
     "model_module_version": "1.5.0",
     "model_name": "HBoxModel",
     "state": {
      "_dom_classes": [],
      "_model_module": "@jupyter-widgets/controls",
      "_model_module_version": "1.5.0",
      "_model_name": "HBoxModel",
      "_view_count": null,
      "_view_module": "@jupyter-widgets/controls",
      "_view_module_version": "1.5.0",
      "_view_name": "HBoxView",
      "box_style": "",
      "children": [
       "IPY_MODEL_9d9eb1facb6844d4814cd21e71cb00a2",
       "IPY_MODEL_9e357481dfe243379072b47783b9f9d9",
       "IPY_MODEL_5b0208fc4c284f3c9c5a498b7551a9f2"
      ],
      "layout": "IPY_MODEL_c85eed1f33ef4b5b8e05bc9f11de6b12"
     }
    },
    "4b45e603f6ea40aabee0986f170c5da5": {
     "model_module": "@jupyter-widgets/base",
     "model_module_version": "1.2.0",
     "model_name": "LayoutModel",
     "state": {
      "_model_module": "@jupyter-widgets/base",
      "_model_module_version": "1.2.0",
      "_model_name": "LayoutModel",
      "_view_count": null,
      "_view_module": "@jupyter-widgets/base",
      "_view_module_version": "1.2.0",
      "_view_name": "LayoutView",
      "align_content": null,
      "align_items": null,
      "align_self": null,
      "border": null,
      "bottom": null,
      "display": null,
      "flex": null,
      "flex_flow": null,
      "grid_area": null,
      "grid_auto_columns": null,
      "grid_auto_flow": null,
      "grid_auto_rows": null,
      "grid_column": null,
      "grid_gap": null,
      "grid_row": null,
      "grid_template_areas": null,
      "grid_template_columns": null,
      "grid_template_rows": null,
      "height": null,
      "justify_content": null,
      "justify_items": null,
      "left": null,
      "margin": null,
      "max_height": null,
      "max_width": null,
      "min_height": null,
      "min_width": null,
      "object_fit": null,
      "object_position": null,
      "order": null,
      "overflow": null,
      "overflow_x": null,
      "overflow_y": null,
      "padding": null,
      "right": null,
      "top": null,
      "visibility": null,
      "width": null
     }
    },
    "50c244d50a3d4d25b183a241d755206e": {
     "model_module": "@jupyter-widgets/base",
     "model_module_version": "1.2.0",
     "model_name": "LayoutModel",
     "state": {
      "_model_module": "@jupyter-widgets/base",
      "_model_module_version": "1.2.0",
      "_model_name": "LayoutModel",
      "_view_count": null,
      "_view_module": "@jupyter-widgets/base",
      "_view_module_version": "1.2.0",
      "_view_name": "LayoutView",
      "align_content": null,
      "align_items": null,
      "align_self": null,
      "border": null,
      "bottom": null,
      "display": null,
      "flex": null,
      "flex_flow": null,
      "grid_area": null,
      "grid_auto_columns": null,
      "grid_auto_flow": null,
      "grid_auto_rows": null,
      "grid_column": null,
      "grid_gap": null,
      "grid_row": null,
      "grid_template_areas": null,
      "grid_template_columns": null,
      "grid_template_rows": null,
      "height": null,
      "justify_content": null,
      "justify_items": null,
      "left": null,
      "margin": null,
      "max_height": null,
      "max_width": null,
      "min_height": null,
      "min_width": null,
      "object_fit": null,
      "object_position": null,
      "order": null,
      "overflow": null,
      "overflow_x": null,
      "overflow_y": null,
      "padding": null,
      "right": null,
      "top": null,
      "visibility": null,
      "width": null
     }
    },
    "51f2cd40afff41a9aa5d0e106e6f23ec": {
     "model_module": "@jupyter-widgets/base",
     "model_module_version": "1.2.0",
     "model_name": "LayoutModel",
     "state": {
      "_model_module": "@jupyter-widgets/base",
      "_model_module_version": "1.2.0",
      "_model_name": "LayoutModel",
      "_view_count": null,
      "_view_module": "@jupyter-widgets/base",
      "_view_module_version": "1.2.0",
      "_view_name": "LayoutView",
      "align_content": null,
      "align_items": null,
      "align_self": null,
      "border": null,
      "bottom": null,
      "display": null,
      "flex": null,
      "flex_flow": null,
      "grid_area": null,
      "grid_auto_columns": null,
      "grid_auto_flow": null,
      "grid_auto_rows": null,
      "grid_column": null,
      "grid_gap": null,
      "grid_row": null,
      "grid_template_areas": null,
      "grid_template_columns": null,
      "grid_template_rows": null,
      "height": null,
      "justify_content": null,
      "justify_items": null,
      "left": null,
      "margin": null,
      "max_height": null,
      "max_width": null,
      "min_height": null,
      "min_width": null,
      "object_fit": null,
      "object_position": null,
      "order": null,
      "overflow": null,
      "overflow_x": null,
      "overflow_y": null,
      "padding": null,
      "right": null,
      "top": null,
      "visibility": null,
      "width": null
     }
    },
    "563242e5d555450da166668e09bebad1": {
     "model_module": "@jupyter-widgets/base",
     "model_module_version": "1.2.0",
     "model_name": "LayoutModel",
     "state": {
      "_model_module": "@jupyter-widgets/base",
      "_model_module_version": "1.2.0",
      "_model_name": "LayoutModel",
      "_view_count": null,
      "_view_module": "@jupyter-widgets/base",
      "_view_module_version": "1.2.0",
      "_view_name": "LayoutView",
      "align_content": null,
      "align_items": null,
      "align_self": null,
      "border": null,
      "bottom": null,
      "display": null,
      "flex": null,
      "flex_flow": null,
      "grid_area": null,
      "grid_auto_columns": null,
      "grid_auto_flow": null,
      "grid_auto_rows": null,
      "grid_column": null,
      "grid_gap": null,
      "grid_row": null,
      "grid_template_areas": null,
      "grid_template_columns": null,
      "grid_template_rows": null,
      "height": null,
      "justify_content": null,
      "justify_items": null,
      "left": null,
      "margin": null,
      "max_height": null,
      "max_width": null,
      "min_height": null,
      "min_width": null,
      "object_fit": null,
      "object_position": null,
      "order": null,
      "overflow": null,
      "overflow_x": null,
      "overflow_y": null,
      "padding": null,
      "right": null,
      "top": null,
      "visibility": null,
      "width": null
     }
    },
    "5b0208fc4c284f3c9c5a498b7551a9f2": {
     "model_module": "@jupyter-widgets/controls",
     "model_module_version": "1.5.0",
     "model_name": "HTMLModel",
     "state": {
      "_dom_classes": [],
      "_model_module": "@jupyter-widgets/controls",
      "_model_module_version": "1.5.0",
      "_model_name": "HTMLModel",
      "_view_count": null,
      "_view_module": "@jupyter-widgets/controls",
      "_view_module_version": "1.5.0",
      "_view_name": "HTMLView",
      "description": "",
      "description_tooltip": null,
      "layout": "IPY_MODEL_5e7dd10949dd423b9ce84fce9f0cc639",
      "placeholder": "​",
      "style": "IPY_MODEL_ca653ef7c3dc4f08a5c64e808af7a049",
      "value": " 684/684 [00:00&lt;00:00, 10.7kB/s]"
     }
    },
    "5c17968a43b141998b0e5fda234d088c": {
     "model_module": "@jupyter-widgets/base",
     "model_module_version": "1.2.0",
     "model_name": "LayoutModel",
     "state": {
      "_model_module": "@jupyter-widgets/base",
      "_model_module_version": "1.2.0",
      "_model_name": "LayoutModel",
      "_view_count": null,
      "_view_module": "@jupyter-widgets/base",
      "_view_module_version": "1.2.0",
      "_view_name": "LayoutView",
      "align_content": null,
      "align_items": null,
      "align_self": null,
      "border": null,
      "bottom": null,
      "display": null,
      "flex": null,
      "flex_flow": null,
      "grid_area": null,
      "grid_auto_columns": null,
      "grid_auto_flow": null,
      "grid_auto_rows": null,
      "grid_column": null,
      "grid_gap": null,
      "grid_row": null,
      "grid_template_areas": null,
      "grid_template_columns": null,
      "grid_template_rows": null,
      "height": null,
      "justify_content": null,
      "justify_items": null,
      "left": null,
      "margin": null,
      "max_height": null,
      "max_width": null,
      "min_height": null,
      "min_width": null,
      "object_fit": null,
      "object_position": null,
      "order": null,
      "overflow": null,
      "overflow_x": null,
      "overflow_y": null,
      "padding": null,
      "right": null,
      "top": null,
      "visibility": null,
      "width": null
     }
    },
    "5c3d8bfb9e114df2af10865f83ab165b": {
     "model_module": "@jupyter-widgets/controls",
     "model_module_version": "1.5.0",
     "model_name": "DescriptionStyleModel",
     "state": {
      "_model_module": "@jupyter-widgets/controls",
      "_model_module_version": "1.5.0",
      "_model_name": "DescriptionStyleModel",
      "_view_count": null,
      "_view_module": "@jupyter-widgets/base",
      "_view_module_version": "1.2.0",
      "_view_name": "StyleView",
      "description_width": ""
     }
    },
    "5e52b186de4e4d7d918469562b73327b": {
     "model_module": "@jupyter-widgets/controls",
     "model_module_version": "1.5.0",
     "model_name": "HBoxModel",
     "state": {
      "_dom_classes": [],
      "_model_module": "@jupyter-widgets/controls",
      "_model_module_version": "1.5.0",
      "_model_name": "HBoxModel",
      "_view_count": null,
      "_view_module": "@jupyter-widgets/controls",
      "_view_module_version": "1.5.0",
      "_view_name": "HBoxView",
      "box_style": "",
      "children": [
       "IPY_MODEL_b2337dfd48dd4064b902a9e3c477889b",
       "IPY_MODEL_6756c15a68be48aa94ee610f2848eebf",
       "IPY_MODEL_b28d983569e3432d8afd52978977b723"
      ],
      "layout": "IPY_MODEL_563242e5d555450da166668e09bebad1"
     }
    },
    "5e7dd10949dd423b9ce84fce9f0cc639": {
     "model_module": "@jupyter-widgets/base",
     "model_module_version": "1.2.0",
     "model_name": "LayoutModel",
     "state": {
      "_model_module": "@jupyter-widgets/base",
      "_model_module_version": "1.2.0",
      "_model_name": "LayoutModel",
      "_view_count": null,
      "_view_module": "@jupyter-widgets/base",
      "_view_module_version": "1.2.0",
      "_view_name": "LayoutView",
      "align_content": null,
      "align_items": null,
      "align_self": null,
      "border": null,
      "bottom": null,
      "display": null,
      "flex": null,
      "flex_flow": null,
      "grid_area": null,
      "grid_auto_columns": null,
      "grid_auto_flow": null,
      "grid_auto_rows": null,
      "grid_column": null,
      "grid_gap": null,
      "grid_row": null,
      "grid_template_areas": null,
      "grid_template_columns": null,
      "grid_template_rows": null,
      "height": null,
      "justify_content": null,
      "justify_items": null,
      "left": null,
      "margin": null,
      "max_height": null,
      "max_width": null,
      "min_height": null,
      "min_width": null,
      "object_fit": null,
      "object_position": null,
      "order": null,
      "overflow": null,
      "overflow_x": null,
      "overflow_y": null,
      "padding": null,
      "right": null,
      "top": null,
      "visibility": null,
      "width": null
     }
    },
    "60a5e18092ed4a2f9d7e67174fca97c6": {
     "model_module": "@jupyter-widgets/controls",
     "model_module_version": "1.5.0",
     "model_name": "HTMLModel",
     "state": {
      "_dom_classes": [],
      "_model_module": "@jupyter-widgets/controls",
      "_model_module_version": "1.5.0",
      "_model_name": "HTMLModel",
      "_view_count": null,
      "_view_module": "@jupyter-widgets/controls",
      "_view_module_version": "1.5.0",
      "_view_name": "HTMLView",
      "description": "",
      "description_tooltip": null,
      "layout": "IPY_MODEL_51f2cd40afff41a9aa5d0e106e6f23ec",
      "placeholder": "​",
      "style": "IPY_MODEL_8b30616e17944982b8292fcadbf2dc1e",
      "value": " 760k/760k [00:00&lt;00:00, 17.3MB/s]"
     }
    },
    "6499876b1d2f4b2dbbccc0172271886e": {
     "model_module": "@jupyter-widgets/controls",
     "model_module_version": "1.5.0",
     "model_name": "HTMLModel",
     "state": {
      "_dom_classes": [],
      "_model_module": "@jupyter-widgets/controls",
      "_model_module_version": "1.5.0",
      "_model_name": "HTMLModel",
      "_view_count": null,
      "_view_module": "@jupyter-widgets/controls",
      "_view_module_version": "1.5.0",
      "_view_name": "HTMLView",
      "description": "",
      "description_tooltip": null,
      "layout": "IPY_MODEL_1bdd563487f94c93b2da7b5db629d151",
      "placeholder": "​",
      "style": "IPY_MODEL_06261fddb8264a4a9e8781203a13c5e3",
      "value": "Downloading (…)/main/tokenizer.json: 100%"
     }
    },
    "6756c15a68be48aa94ee610f2848eebf": {
     "model_module": "@jupyter-widgets/controls",
     "model_module_version": "1.5.0",
     "model_name": "FloatProgressModel",
     "state": {
      "_dom_classes": [],
      "_model_module": "@jupyter-widgets/controls",
      "_model_module_version": "1.5.0",
      "_model_name": "FloatProgressModel",
      "_view_count": null,
      "_view_module": "@jupyter-widgets/controls",
      "_view_module_version": "1.5.0",
      "_view_name": "ProgressView",
      "bar_style": "success",
      "description": "",
      "description_tooltip": null,
      "layout": "IPY_MODEL_ecbce9d228644280ad825f42767f3166",
      "max": 47372894,
      "min": 0,
      "orientation": "horizontal",
      "style": "IPY_MODEL_f3c4bc1ab4584d7ca439a6588a1952e6",
      "value": 47372894
     }
    },
    "7bba2edc7dd949b2a9ef44d2c3ec4f94": {
     "model_module": "@jupyter-widgets/base",
     "model_module_version": "1.2.0",
     "model_name": "LayoutModel",
     "state": {
      "_model_module": "@jupyter-widgets/base",
      "_model_module_version": "1.2.0",
      "_model_name": "LayoutModel",
      "_view_count": null,
      "_view_module": "@jupyter-widgets/base",
      "_view_module_version": "1.2.0",
      "_view_name": "LayoutView",
      "align_content": null,
      "align_items": null,
      "align_self": null,
      "border": null,
      "bottom": null,
      "display": null,
      "flex": null,
      "flex_flow": null,
      "grid_area": null,
      "grid_auto_columns": null,
      "grid_auto_flow": null,
      "grid_auto_rows": null,
      "grid_column": null,
      "grid_gap": null,
      "grid_row": null,
      "grid_template_areas": null,
      "grid_template_columns": null,
      "grid_template_rows": null,
      "height": null,
      "justify_content": null,
      "justify_items": null,
      "left": null,
      "margin": null,
      "max_height": null,
      "max_width": null,
      "min_height": null,
      "min_width": null,
      "object_fit": null,
      "object_position": null,
      "order": null,
      "overflow": null,
      "overflow_x": null,
      "overflow_y": null,
      "padding": null,
      "right": null,
      "top": null,
      "visibility": null,
      "width": null
     }
    },
    "8b30616e17944982b8292fcadbf2dc1e": {
     "model_module": "@jupyter-widgets/controls",
     "model_module_version": "1.5.0",
     "model_name": "DescriptionStyleModel",
     "state": {
      "_model_module": "@jupyter-widgets/controls",
      "_model_module_version": "1.5.0",
      "_model_name": "DescriptionStyleModel",
      "_view_count": null,
      "_view_module": "@jupyter-widgets/base",
      "_view_module_version": "1.2.0",
      "_view_name": "StyleView",
      "description_width": ""
     }
    },
    "948eff853add4bb9880517f4e17410d5": {
     "model_module": "@jupyter-widgets/controls",
     "model_module_version": "1.5.0",
     "model_name": "DescriptionStyleModel",
     "state": {
      "_model_module": "@jupyter-widgets/controls",
      "_model_module_version": "1.5.0",
      "_model_name": "DescriptionStyleModel",
      "_view_count": null,
      "_view_module": "@jupyter-widgets/base",
      "_view_module_version": "1.2.0",
      "_view_name": "StyleView",
      "description_width": ""
     }
    },
    "9800b1c7572e455ca4de2f242dba74a2": {
     "model_module": "@jupyter-widgets/base",
     "model_module_version": "1.2.0",
     "model_name": "LayoutModel",
     "state": {
      "_model_module": "@jupyter-widgets/base",
      "_model_module_version": "1.2.0",
      "_model_name": "LayoutModel",
      "_view_count": null,
      "_view_module": "@jupyter-widgets/base",
      "_view_module_version": "1.2.0",
      "_view_name": "LayoutView",
      "align_content": null,
      "align_items": null,
      "align_self": null,
      "border": null,
      "bottom": null,
      "display": null,
      "flex": null,
      "flex_flow": null,
      "grid_area": null,
      "grid_auto_columns": null,
      "grid_auto_flow": null,
      "grid_auto_rows": null,
      "grid_column": null,
      "grid_gap": null,
      "grid_row": null,
      "grid_template_areas": null,
      "grid_template_columns": null,
      "grid_template_rows": null,
      "height": null,
      "justify_content": null,
      "justify_items": null,
      "left": null,
      "margin": null,
      "max_height": null,
      "max_width": null,
      "min_height": null,
      "min_width": null,
      "object_fit": null,
      "object_position": null,
      "order": null,
      "overflow": null,
      "overflow_x": null,
      "overflow_y": null,
      "padding": null,
      "right": null,
      "top": null,
      "visibility": null,
      "width": null
     }
    },
    "9d9eb1facb6844d4814cd21e71cb00a2": {
     "model_module": "@jupyter-widgets/controls",
     "model_module_version": "1.5.0",
     "model_name": "HTMLModel",
     "state": {
      "_dom_classes": [],
      "_model_module": "@jupyter-widgets/controls",
      "_model_module_version": "1.5.0",
      "_model_name": "HTMLModel",
      "_view_count": null,
      "_view_module": "@jupyter-widgets/controls",
      "_view_module_version": "1.5.0",
      "_view_name": "HTMLView",
      "description": "",
      "description_tooltip": null,
      "layout": "IPY_MODEL_4b45e603f6ea40aabee0986f170c5da5",
      "placeholder": "​",
      "style": "IPY_MODEL_5c3d8bfb9e114df2af10865f83ab165b",
      "value": "Downloading (…)lve/main/config.json: 100%"
     }
    },
    "9e357481dfe243379072b47783b9f9d9": {
     "model_module": "@jupyter-widgets/controls",
     "model_module_version": "1.5.0",
     "model_name": "FloatProgressModel",
     "state": {
      "_dom_classes": [],
      "_model_module": "@jupyter-widgets/controls",
      "_model_module_version": "1.5.0",
      "_model_name": "FloatProgressModel",
      "_view_count": null,
      "_view_module": "@jupyter-widgets/controls",
      "_view_module_version": "1.5.0",
      "_view_name": "ProgressView",
      "bar_style": "success",
      "description": "",
      "description_tooltip": null,
      "layout": "IPY_MODEL_9800b1c7572e455ca4de2f242dba74a2",
      "max": 684,
      "min": 0,
      "orientation": "horizontal",
      "style": "IPY_MODEL_010d257b02d74563adae34aa4aebcaaa",
      "value": 684
     }
    },
    "a28999e95c9c4709bb4dcc0182fb367f": {
     "model_module": "@jupyter-widgets/base",
     "model_module_version": "1.2.0",
     "model_name": "LayoutModel",
     "state": {
      "_model_module": "@jupyter-widgets/base",
      "_model_module_version": "1.2.0",
      "_model_name": "LayoutModel",
      "_view_count": null,
      "_view_module": "@jupyter-widgets/base",
      "_view_module_version": "1.2.0",
      "_view_name": "LayoutView",
      "align_content": null,
      "align_items": null,
      "align_self": null,
      "border": null,
      "bottom": null,
      "display": null,
      "flex": null,
      "flex_flow": null,
      "grid_area": null,
      "grid_auto_columns": null,
      "grid_auto_flow": null,
      "grid_auto_rows": null,
      "grid_column": null,
      "grid_gap": null,
      "grid_row": null,
      "grid_template_areas": null,
      "grid_template_columns": null,
      "grid_template_rows": null,
      "height": null,
      "justify_content": null,
      "justify_items": null,
      "left": null,
      "margin": null,
      "max_height": null,
      "max_width": null,
      "min_height": null,
      "min_width": null,
      "object_fit": null,
      "object_position": null,
      "order": null,
      "overflow": null,
      "overflow_x": null,
      "overflow_y": null,
      "padding": null,
      "right": null,
      "top": null,
      "visibility": null,
      "width": null
     }
    },
    "a9254c3e3a1b4590bae4c365bb343a3f": {
     "model_module": "@jupyter-widgets/controls",
     "model_module_version": "1.5.0",
     "model_name": "FloatProgressModel",
     "state": {
      "_dom_classes": [],
      "_model_module": "@jupyter-widgets/controls",
      "_model_module_version": "1.5.0",
      "_model_name": "FloatProgressModel",
      "_view_count": null,
      "_view_module": "@jupyter-widgets/controls",
      "_view_module_version": "1.5.0",
      "_view_name": "ProgressView",
      "bar_style": "success",
      "description": "",
      "description_tooltip": null,
      "layout": "IPY_MODEL_2520cd46fd0340109c9cbb534c4f2710",
      "max": 1312669,
      "min": 0,
      "orientation": "horizontal",
      "style": "IPY_MODEL_29360173a5af41e9ab4b32dd051fc36e",
      "value": 1312669
     }
    },
    "b2337dfd48dd4064b902a9e3c477889b": {
     "model_module": "@jupyter-widgets/controls",
     "model_module_version": "1.5.0",
     "model_name": "HTMLModel",
     "state": {
      "_dom_classes": [],
      "_model_module": "@jupyter-widgets/controls",
      "_model_module_version": "1.5.0",
      "_model_name": "HTMLModel",
      "_view_count": null,
      "_view_module": "@jupyter-widgets/controls",
      "_view_module_version": "1.5.0",
      "_view_name": "HTMLView",
      "description": "",
      "description_tooltip": null,
      "layout": "IPY_MODEL_7bba2edc7dd949b2a9ef44d2c3ec4f94",
      "placeholder": "​",
      "style": "IPY_MODEL_2c3db25eecad450d816d0d9eec21ff7d",
      "value": "Downloading model.safetensors: 100%"
     }
    },
    "b28d983569e3432d8afd52978977b723": {
     "model_module": "@jupyter-widgets/controls",
     "model_module_version": "1.5.0",
     "model_name": "HTMLModel",
     "state": {
      "_dom_classes": [],
      "_model_module": "@jupyter-widgets/controls",
      "_model_module_version": "1.5.0",
      "_model_name": "HTMLModel",
      "_view_count": null,
      "_view_module": "@jupyter-widgets/controls",
      "_view_module_version": "1.5.0",
      "_view_name": "HTMLView",
      "description": "",
      "description_tooltip": null,
      "layout": "IPY_MODEL_5c17968a43b141998b0e5fda234d088c",
      "placeholder": "​",
      "style": "IPY_MODEL_cab4bb0b1b0d4b0a8adfc95080ead4bc",
      "value": " 47.4M/47.4M [00:03&lt;00:00, 15.9MB/s]"
     }
    },
    "bbdcf4313aa34d9f94c84a7eec47c73c": {
     "model_module": "@jupyter-widgets/controls",
     "model_module_version": "1.5.0",
     "model_name": "HBoxModel",
     "state": {
      "_dom_classes": [],
      "_model_module": "@jupyter-widgets/controls",
      "_model_module_version": "1.5.0",
      "_model_name": "HBoxModel",
      "_view_count": null,
      "_view_module": "@jupyter-widgets/controls",
      "_view_module_version": "1.5.0",
      "_view_name": "HBoxView",
      "box_style": "",
      "children": [
       "IPY_MODEL_6499876b1d2f4b2dbbccc0172271886e",
       "IPY_MODEL_a9254c3e3a1b4590bae4c365bb343a3f",
       "IPY_MODEL_d5ea1a0a38834395bbcaf5fa5fbf0b0b"
      ],
      "layout": "IPY_MODEL_50c244d50a3d4d25b183a241d755206e"
     }
    },
    "c0bcf6965fd3444db8ed22d2d1de5f2c": {
     "model_module": "@jupyter-widgets/controls",
     "model_module_version": "1.5.0",
     "model_name": "HTMLModel",
     "state": {
      "_dom_classes": [],
      "_model_module": "@jupyter-widgets/controls",
      "_model_module_version": "1.5.0",
      "_model_name": "HTMLModel",
      "_view_count": null,
      "_view_module": "@jupyter-widgets/controls",
      "_view_module_version": "1.5.0",
      "_view_name": "HTMLView",
      "description": "",
      "description_tooltip": null,
      "layout": "IPY_MODEL_cbf64eb11aa844ee89f57c21c7c79353",
      "placeholder": "​",
      "style": "IPY_MODEL_dbf46b08603544f3900606eec273d868",
      "value": "Downloading (…)ve/main/spiece.model: 100%"
     }
    },
    "c85eed1f33ef4b5b8e05bc9f11de6b12": {
     "model_module": "@jupyter-widgets/base",
     "model_module_version": "1.2.0",
     "model_name": "LayoutModel",
     "state": {
      "_model_module": "@jupyter-widgets/base",
      "_model_module_version": "1.2.0",
      "_model_name": "LayoutModel",
      "_view_count": null,
      "_view_module": "@jupyter-widgets/base",
      "_view_module_version": "1.2.0",
      "_view_name": "LayoutView",
      "align_content": null,
      "align_items": null,
      "align_self": null,
      "border": null,
      "bottom": null,
      "display": null,
      "flex": null,
      "flex_flow": null,
      "grid_area": null,
      "grid_auto_columns": null,
      "grid_auto_flow": null,
      "grid_auto_rows": null,
      "grid_column": null,
      "grid_gap": null,
      "grid_row": null,
      "grid_template_areas": null,
      "grid_template_columns": null,
      "grid_template_rows": null,
      "height": null,
      "justify_content": null,
      "justify_items": null,
      "left": null,
      "margin": null,
      "max_height": null,
      "max_width": null,
      "min_height": null,
      "min_width": null,
      "object_fit": null,
      "object_position": null,
      "order": null,
      "overflow": null,
      "overflow_x": null,
      "overflow_y": null,
      "padding": null,
      "right": null,
      "top": null,
      "visibility": null,
      "width": null
     }
    },
    "ca653ef7c3dc4f08a5c64e808af7a049": {
     "model_module": "@jupyter-widgets/controls",
     "model_module_version": "1.5.0",
     "model_name": "DescriptionStyleModel",
     "state": {
      "_model_module": "@jupyter-widgets/controls",
      "_model_module_version": "1.5.0",
      "_model_name": "DescriptionStyleModel",
      "_view_count": null,
      "_view_module": "@jupyter-widgets/base",
      "_view_module_version": "1.2.0",
      "_view_name": "StyleView",
      "description_width": ""
     }
    },
    "cab4bb0b1b0d4b0a8adfc95080ead4bc": {
     "model_module": "@jupyter-widgets/controls",
     "model_module_version": "1.5.0",
     "model_name": "DescriptionStyleModel",
     "state": {
      "_model_module": "@jupyter-widgets/controls",
      "_model_module_version": "1.5.0",
      "_model_name": "DescriptionStyleModel",
      "_view_count": null,
      "_view_module": "@jupyter-widgets/base",
      "_view_module_version": "1.2.0",
      "_view_name": "StyleView",
      "description_width": ""
     }
    },
    "cb37c8b4eb2a4d3c89499dada28abe9b": {
     "model_module": "@jupyter-widgets/base",
     "model_module_version": "1.2.0",
     "model_name": "LayoutModel",
     "state": {
      "_model_module": "@jupyter-widgets/base",
      "_model_module_version": "1.2.0",
      "_model_name": "LayoutModel",
      "_view_count": null,
      "_view_module": "@jupyter-widgets/base",
      "_view_module_version": "1.2.0",
      "_view_name": "LayoutView",
      "align_content": null,
      "align_items": null,
      "align_self": null,
      "border": null,
      "bottom": null,
      "display": null,
      "flex": null,
      "flex_flow": null,
      "grid_area": null,
      "grid_auto_columns": null,
      "grid_auto_flow": null,
      "grid_auto_rows": null,
      "grid_column": null,
      "grid_gap": null,
      "grid_row": null,
      "grid_template_areas": null,
      "grid_template_columns": null,
      "grid_template_rows": null,
      "height": null,
      "justify_content": null,
      "justify_items": null,
      "left": null,
      "margin": null,
      "max_height": null,
      "max_width": null,
      "min_height": null,
      "min_width": null,
      "object_fit": null,
      "object_position": null,
      "order": null,
      "overflow": null,
      "overflow_x": null,
      "overflow_y": null,
      "padding": null,
      "right": null,
      "top": null,
      "visibility": null,
      "width": null
     }
    },
    "cbf64eb11aa844ee89f57c21c7c79353": {
     "model_module": "@jupyter-widgets/base",
     "model_module_version": "1.2.0",
     "model_name": "LayoutModel",
     "state": {
      "_model_module": "@jupyter-widgets/base",
      "_model_module_version": "1.2.0",
      "_model_name": "LayoutModel",
      "_view_count": null,
      "_view_module": "@jupyter-widgets/base",
      "_view_module_version": "1.2.0",
      "_view_name": "LayoutView",
      "align_content": null,
      "align_items": null,
      "align_self": null,
      "border": null,
      "bottom": null,
      "display": null,
      "flex": null,
      "flex_flow": null,
      "grid_area": null,
      "grid_auto_columns": null,
      "grid_auto_flow": null,
      "grid_auto_rows": null,
      "grid_column": null,
      "grid_gap": null,
      "grid_row": null,
      "grid_template_areas": null,
      "grid_template_columns": null,
      "grid_template_rows": null,
      "height": null,
      "justify_content": null,
      "justify_items": null,
      "left": null,
      "margin": null,
      "max_height": null,
      "max_width": null,
      "min_height": null,
      "min_width": null,
      "object_fit": null,
      "object_position": null,
      "order": null,
      "overflow": null,
      "overflow_x": null,
      "overflow_y": null,
      "padding": null,
      "right": null,
      "top": null,
      "visibility": null,
      "width": null
     }
    },
    "d5ea1a0a38834395bbcaf5fa5fbf0b0b": {
     "model_module": "@jupyter-widgets/controls",
     "model_module_version": "1.5.0",
     "model_name": "HTMLModel",
     "state": {
      "_dom_classes": [],
      "_model_module": "@jupyter-widgets/controls",
      "_model_module_version": "1.5.0",
      "_model_name": "HTMLModel",
      "_view_count": null,
      "_view_module": "@jupyter-widgets/controls",
      "_view_module_version": "1.5.0",
      "_view_name": "HTMLView",
      "description": "",
      "description_tooltip": null,
      "layout": "IPY_MODEL_cb37c8b4eb2a4d3c89499dada28abe9b",
      "placeholder": "​",
      "style": "IPY_MODEL_948eff853add4bb9880517f4e17410d5",
      "value": " 1.31M/1.31M [00:00&lt;00:00, 6.14MB/s]"
     }
    },
    "da20f493740745c3a43b86ab3a087cc9": {
     "model_module": "@jupyter-widgets/base",
     "model_module_version": "1.2.0",
     "model_name": "LayoutModel",
     "state": {
      "_model_module": "@jupyter-widgets/base",
      "_model_module_version": "1.2.0",
      "_model_name": "LayoutModel",
      "_view_count": null,
      "_view_module": "@jupyter-widgets/base",
      "_view_module_version": "1.2.0",
      "_view_name": "LayoutView",
      "align_content": null,
      "align_items": null,
      "align_self": null,
      "border": null,
      "bottom": null,
      "display": null,
      "flex": null,
      "flex_flow": null,
      "grid_area": null,
      "grid_auto_columns": null,
      "grid_auto_flow": null,
      "grid_auto_rows": null,
      "grid_column": null,
      "grid_gap": null,
      "grid_row": null,
      "grid_template_areas": null,
      "grid_template_columns": null,
      "grid_template_rows": null,
      "height": null,
      "justify_content": null,
      "justify_items": null,
      "left": null,
      "margin": null,
      "max_height": null,
      "max_width": null,
      "min_height": null,
      "min_width": null,
      "object_fit": null,
      "object_position": null,
      "order": null,
      "overflow": null,
      "overflow_x": null,
      "overflow_y": null,
      "padding": null,
      "right": null,
      "top": null,
      "visibility": null,
      "width": null
     }
    },
    "dbf46b08603544f3900606eec273d868": {
     "model_module": "@jupyter-widgets/controls",
     "model_module_version": "1.5.0",
     "model_name": "DescriptionStyleModel",
     "state": {
      "_model_module": "@jupyter-widgets/controls",
      "_model_module_version": "1.5.0",
      "_model_name": "DescriptionStyleModel",
      "_view_count": null,
      "_view_module": "@jupyter-widgets/base",
      "_view_module_version": "1.2.0",
      "_view_name": "StyleView",
      "description_width": ""
     }
    },
    "ecbce9d228644280ad825f42767f3166": {
     "model_module": "@jupyter-widgets/base",
     "model_module_version": "1.2.0",
     "model_name": "LayoutModel",
     "state": {
      "_model_module": "@jupyter-widgets/base",
      "_model_module_version": "1.2.0",
      "_model_name": "LayoutModel",
      "_view_count": null,
      "_view_module": "@jupyter-widgets/base",
      "_view_module_version": "1.2.0",
      "_view_name": "LayoutView",
      "align_content": null,
      "align_items": null,
      "align_self": null,
      "border": null,
      "bottom": null,
      "display": null,
      "flex": null,
      "flex_flow": null,
      "grid_area": null,
      "grid_auto_columns": null,
      "grid_auto_flow": null,
      "grid_auto_rows": null,
      "grid_column": null,
      "grid_gap": null,
      "grid_row": null,
      "grid_template_areas": null,
      "grid_template_columns": null,
      "grid_template_rows": null,
      "height": null,
      "justify_content": null,
      "justify_items": null,
      "left": null,
      "margin": null,
      "max_height": null,
      "max_width": null,
      "min_height": null,
      "min_width": null,
      "object_fit": null,
      "object_position": null,
      "order": null,
      "overflow": null,
      "overflow_x": null,
      "overflow_y": null,
      "padding": null,
      "right": null,
      "top": null,
      "visibility": null,
      "width": null
     }
    },
    "f3c4bc1ab4584d7ca439a6588a1952e6": {
     "model_module": "@jupyter-widgets/controls",
     "model_module_version": "1.5.0",
     "model_name": "ProgressStyleModel",
     "state": {
      "_model_module": "@jupyter-widgets/controls",
      "_model_module_version": "1.5.0",
      "_model_name": "ProgressStyleModel",
      "_view_count": null,
      "_view_module": "@jupyter-widgets/base",
      "_view_module_version": "1.2.0",
      "_view_name": "StyleView",
      "bar_color": null,
      "description_width": ""
     }
    }
   }
  }
 },
 "nbformat": 4,
 "nbformat_minor": 1
}
